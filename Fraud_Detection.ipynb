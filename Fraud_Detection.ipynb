{
 "cells": [
  {
   "cell_type": "markdown",
   "id": "f43d60c0",
   "metadata": {},
   "source": [
    "# Transaction Fraud Detection\n",
    "\n",
    "This project explores a simulated data set of transactions and trains a random forest classifier to make predictions on new transaction data."
   ]
  },
  {
   "cell_type": "code",
   "execution_count": 32,
   "id": "25045160",
   "metadata": {},
   "outputs": [],
   "source": [
    "import pandas as pd\n",
    "import numpy as np\n",
    "import matplotlib.pyplot as plt\n",
    "import plotly\n",
    "import plotly.express as px\n",
    "import plotly.graph_objects as go\n",
    "from sklearn.model_selection import train_test_split\n",
    "from sklearn.ensemble import RandomForestClassifier\n",
    "from sklearn.preprocessing import OneHotEncoder\n",
    "from sklearn.compose import ColumnTransformer\n",
    "from sklearn import metrics\n",
    "from joblib import dump, load\n",
    "import ipywidgets as widgets\n",
    "from IPython.display import display\n",
    "%matplotlib inline"
   ]
  },
  {
   "cell_type": "markdown",
   "id": "d78bb525",
   "metadata": {},
   "source": [
    "## Data Exploration"
   ]
  },
  {
   "cell_type": "code",
   "execution_count": 33,
   "id": "29026262",
   "metadata": {},
   "outputs": [
    {
     "data": {
      "text/html": [
       "<div>\n",
       "<style scoped>\n",
       "    .dataframe tbody tr th:only-of-type {\n",
       "        vertical-align: middle;\n",
       "    }\n",
       "\n",
       "    .dataframe tbody tr th {\n",
       "        vertical-align: top;\n",
       "    }\n",
       "\n",
       "    .dataframe thead th {\n",
       "        text-align: right;\n",
       "    }\n",
       "</style>\n",
       "<table border=\"1\" class=\"dataframe\">\n",
       "  <thead>\n",
       "    <tr style=\"text-align: right;\">\n",
       "      <th></th>\n",
       "      <th>Unnamed: 0</th>\n",
       "      <th>trans_date_trans_time</th>\n",
       "      <th>cc_num</th>\n",
       "      <th>merchant</th>\n",
       "      <th>category</th>\n",
       "      <th>amt</th>\n",
       "      <th>first</th>\n",
       "      <th>last</th>\n",
       "      <th>gender</th>\n",
       "      <th>street</th>\n",
       "      <th>...</th>\n",
       "      <th>lat</th>\n",
       "      <th>long</th>\n",
       "      <th>city_pop</th>\n",
       "      <th>job</th>\n",
       "      <th>dob</th>\n",
       "      <th>trans_num</th>\n",
       "      <th>unix_time</th>\n",
       "      <th>merch_lat</th>\n",
       "      <th>merch_long</th>\n",
       "      <th>is_fraud</th>\n",
       "    </tr>\n",
       "  </thead>\n",
       "  <tbody>\n",
       "    <tr>\n",
       "      <th>0</th>\n",
       "      <td>0</td>\n",
       "      <td>2020-06-21 12:14:25</td>\n",
       "      <td>2291163933867244</td>\n",
       "      <td>fraud_Kirlin and Sons</td>\n",
       "      <td>personal_care</td>\n",
       "      <td>2.86</td>\n",
       "      <td>Jeff</td>\n",
       "      <td>Elliott</td>\n",
       "      <td>M</td>\n",
       "      <td>351 Darlene Green</td>\n",
       "      <td>...</td>\n",
       "      <td>33.9659</td>\n",
       "      <td>-80.9355</td>\n",
       "      <td>333497</td>\n",
       "      <td>Mechanical engineer</td>\n",
       "      <td>1968-03-19</td>\n",
       "      <td>2da90c7d74bd46a0caf3777415b3ebd3</td>\n",
       "      <td>1371816865</td>\n",
       "      <td>33.986391</td>\n",
       "      <td>-81.200714</td>\n",
       "      <td>0</td>\n",
       "    </tr>\n",
       "    <tr>\n",
       "      <th>1</th>\n",
       "      <td>1</td>\n",
       "      <td>2020-06-21 12:14:33</td>\n",
       "      <td>3573030041201292</td>\n",
       "      <td>fraud_Sporer-Keebler</td>\n",
       "      <td>personal_care</td>\n",
       "      <td>29.84</td>\n",
       "      <td>Joanne</td>\n",
       "      <td>Williams</td>\n",
       "      <td>F</td>\n",
       "      <td>3638 Marsh Union</td>\n",
       "      <td>...</td>\n",
       "      <td>40.3207</td>\n",
       "      <td>-110.4360</td>\n",
       "      <td>302</td>\n",
       "      <td>Sales professional, IT</td>\n",
       "      <td>1990-01-17</td>\n",
       "      <td>324cc204407e99f51b0d6ca0055005e7</td>\n",
       "      <td>1371816873</td>\n",
       "      <td>39.450498</td>\n",
       "      <td>-109.960431</td>\n",
       "      <td>0</td>\n",
       "    </tr>\n",
       "    <tr>\n",
       "      <th>2</th>\n",
       "      <td>2</td>\n",
       "      <td>2020-06-21 12:14:53</td>\n",
       "      <td>3598215285024754</td>\n",
       "      <td>fraud_Swaniawski, Nitzsche and Welch</td>\n",
       "      <td>health_fitness</td>\n",
       "      <td>41.28</td>\n",
       "      <td>Ashley</td>\n",
       "      <td>Lopez</td>\n",
       "      <td>F</td>\n",
       "      <td>9333 Valentine Point</td>\n",
       "      <td>...</td>\n",
       "      <td>40.6729</td>\n",
       "      <td>-73.5365</td>\n",
       "      <td>34496</td>\n",
       "      <td>Librarian, public</td>\n",
       "      <td>1970-10-21</td>\n",
       "      <td>c81755dbbbea9d5c77f094348a7579be</td>\n",
       "      <td>1371816893</td>\n",
       "      <td>40.495810</td>\n",
       "      <td>-74.196111</td>\n",
       "      <td>0</td>\n",
       "    </tr>\n",
       "    <tr>\n",
       "      <th>3</th>\n",
       "      <td>3</td>\n",
       "      <td>2020-06-21 12:15:15</td>\n",
       "      <td>3591919803438423</td>\n",
       "      <td>fraud_Haley Group</td>\n",
       "      <td>misc_pos</td>\n",
       "      <td>60.05</td>\n",
       "      <td>Brian</td>\n",
       "      <td>Williams</td>\n",
       "      <td>M</td>\n",
       "      <td>32941 Krystal Mill Apt. 552</td>\n",
       "      <td>...</td>\n",
       "      <td>28.5697</td>\n",
       "      <td>-80.8191</td>\n",
       "      <td>54767</td>\n",
       "      <td>Set designer</td>\n",
       "      <td>1987-07-25</td>\n",
       "      <td>2159175b9efe66dc301f149d3d5abf8c</td>\n",
       "      <td>1371816915</td>\n",
       "      <td>28.812398</td>\n",
       "      <td>-80.883061</td>\n",
       "      <td>0</td>\n",
       "    </tr>\n",
       "    <tr>\n",
       "      <th>4</th>\n",
       "      <td>4</td>\n",
       "      <td>2020-06-21 12:15:17</td>\n",
       "      <td>3526826139003047</td>\n",
       "      <td>fraud_Johnston-Casper</td>\n",
       "      <td>travel</td>\n",
       "      <td>3.19</td>\n",
       "      <td>Nathan</td>\n",
       "      <td>Massey</td>\n",
       "      <td>M</td>\n",
       "      <td>5783 Evan Roads Apt. 465</td>\n",
       "      <td>...</td>\n",
       "      <td>44.2529</td>\n",
       "      <td>-85.0170</td>\n",
       "      <td>1126</td>\n",
       "      <td>Furniture designer</td>\n",
       "      <td>1955-07-06</td>\n",
       "      <td>57ff021bd3f328f8738bb535c302a31b</td>\n",
       "      <td>1371816917</td>\n",
       "      <td>44.959148</td>\n",
       "      <td>-85.884734</td>\n",
       "      <td>0</td>\n",
       "    </tr>\n",
       "    <tr>\n",
       "      <th>...</th>\n",
       "      <td>...</td>\n",
       "      <td>...</td>\n",
       "      <td>...</td>\n",
       "      <td>...</td>\n",
       "      <td>...</td>\n",
       "      <td>...</td>\n",
       "      <td>...</td>\n",
       "      <td>...</td>\n",
       "      <td>...</td>\n",
       "      <td>...</td>\n",
       "      <td>...</td>\n",
       "      <td>...</td>\n",
       "      <td>...</td>\n",
       "      <td>...</td>\n",
       "      <td>...</td>\n",
       "      <td>...</td>\n",
       "      <td>...</td>\n",
       "      <td>...</td>\n",
       "      <td>...</td>\n",
       "      <td>...</td>\n",
       "      <td>...</td>\n",
       "    </tr>\n",
       "    <tr>\n",
       "      <th>555714</th>\n",
       "      <td>555714</td>\n",
       "      <td>2020-12-31 23:59:07</td>\n",
       "      <td>30560609640617</td>\n",
       "      <td>fraud_Reilly and Sons</td>\n",
       "      <td>health_fitness</td>\n",
       "      <td>43.77</td>\n",
       "      <td>Michael</td>\n",
       "      <td>Olson</td>\n",
       "      <td>M</td>\n",
       "      <td>558 Michael Estates</td>\n",
       "      <td>...</td>\n",
       "      <td>40.4931</td>\n",
       "      <td>-91.8912</td>\n",
       "      <td>519</td>\n",
       "      <td>Town planner</td>\n",
       "      <td>1966-02-13</td>\n",
       "      <td>9b1f753c79894c9f4b71f04581835ada</td>\n",
       "      <td>1388534347</td>\n",
       "      <td>39.946837</td>\n",
       "      <td>-91.333331</td>\n",
       "      <td>0</td>\n",
       "    </tr>\n",
       "    <tr>\n",
       "      <th>555715</th>\n",
       "      <td>555715</td>\n",
       "      <td>2020-12-31 23:59:09</td>\n",
       "      <td>3556613125071656</td>\n",
       "      <td>fraud_Hoppe-Parisian</td>\n",
       "      <td>kids_pets</td>\n",
       "      <td>111.84</td>\n",
       "      <td>Jose</td>\n",
       "      <td>Vasquez</td>\n",
       "      <td>M</td>\n",
       "      <td>572 Davis Mountains</td>\n",
       "      <td>...</td>\n",
       "      <td>29.0393</td>\n",
       "      <td>-95.4401</td>\n",
       "      <td>28739</td>\n",
       "      <td>Futures trader</td>\n",
       "      <td>1999-12-27</td>\n",
       "      <td>2090647dac2c89a1d86c514c427f5b91</td>\n",
       "      <td>1388534349</td>\n",
       "      <td>29.661049</td>\n",
       "      <td>-96.186633</td>\n",
       "      <td>0</td>\n",
       "    </tr>\n",
       "    <tr>\n",
       "      <th>555716</th>\n",
       "      <td>555716</td>\n",
       "      <td>2020-12-31 23:59:15</td>\n",
       "      <td>6011724471098086</td>\n",
       "      <td>fraud_Rau-Robel</td>\n",
       "      <td>kids_pets</td>\n",
       "      <td>86.88</td>\n",
       "      <td>Ann</td>\n",
       "      <td>Lawson</td>\n",
       "      <td>F</td>\n",
       "      <td>144 Evans Islands Apt. 683</td>\n",
       "      <td>...</td>\n",
       "      <td>46.1966</td>\n",
       "      <td>-118.9017</td>\n",
       "      <td>3684</td>\n",
       "      <td>Musician</td>\n",
       "      <td>1981-11-29</td>\n",
       "      <td>6c5b7c8add471975aa0fec023b2e8408</td>\n",
       "      <td>1388534355</td>\n",
       "      <td>46.658340</td>\n",
       "      <td>-119.715054</td>\n",
       "      <td>0</td>\n",
       "    </tr>\n",
       "    <tr>\n",
       "      <th>555717</th>\n",
       "      <td>555717</td>\n",
       "      <td>2020-12-31 23:59:24</td>\n",
       "      <td>4079773899158</td>\n",
       "      <td>fraud_Breitenberg LLC</td>\n",
       "      <td>travel</td>\n",
       "      <td>7.99</td>\n",
       "      <td>Eric</td>\n",
       "      <td>Preston</td>\n",
       "      <td>M</td>\n",
       "      <td>7020 Doyle Stream Apt. 951</td>\n",
       "      <td>...</td>\n",
       "      <td>44.6255</td>\n",
       "      <td>-116.4493</td>\n",
       "      <td>129</td>\n",
       "      <td>Cartographer</td>\n",
       "      <td>1965-12-15</td>\n",
       "      <td>14392d723bb7737606b2700ac791b7aa</td>\n",
       "      <td>1388534364</td>\n",
       "      <td>44.470525</td>\n",
       "      <td>-117.080888</td>\n",
       "      <td>0</td>\n",
       "    </tr>\n",
       "    <tr>\n",
       "      <th>555718</th>\n",
       "      <td>555718</td>\n",
       "      <td>2020-12-31 23:59:34</td>\n",
       "      <td>4170689372027579</td>\n",
       "      <td>fraud_Dare-Marvin</td>\n",
       "      <td>entertainment</td>\n",
       "      <td>38.13</td>\n",
       "      <td>Samuel</td>\n",
       "      <td>Frey</td>\n",
       "      <td>M</td>\n",
       "      <td>830 Myers Plaza Apt. 384</td>\n",
       "      <td>...</td>\n",
       "      <td>35.6665</td>\n",
       "      <td>-97.4798</td>\n",
       "      <td>116001</td>\n",
       "      <td>Media buyer</td>\n",
       "      <td>1993-05-10</td>\n",
       "      <td>1765bb45b3aa3224b4cdcb6e7a96cee3</td>\n",
       "      <td>1388534374</td>\n",
       "      <td>36.210097</td>\n",
       "      <td>-97.036372</td>\n",
       "      <td>0</td>\n",
       "    </tr>\n",
       "  </tbody>\n",
       "</table>\n",
       "<p>555719 rows × 23 columns</p>\n",
       "</div>"
      ],
      "text/plain": [
       "        Unnamed: 0 trans_date_trans_time            cc_num  \\\n",
       "0                0   2020-06-21 12:14:25  2291163933867244   \n",
       "1                1   2020-06-21 12:14:33  3573030041201292   \n",
       "2                2   2020-06-21 12:14:53  3598215285024754   \n",
       "3                3   2020-06-21 12:15:15  3591919803438423   \n",
       "4                4   2020-06-21 12:15:17  3526826139003047   \n",
       "...            ...                   ...               ...   \n",
       "555714      555714   2020-12-31 23:59:07    30560609640617   \n",
       "555715      555715   2020-12-31 23:59:09  3556613125071656   \n",
       "555716      555716   2020-12-31 23:59:15  6011724471098086   \n",
       "555717      555717   2020-12-31 23:59:24     4079773899158   \n",
       "555718      555718   2020-12-31 23:59:34  4170689372027579   \n",
       "\n",
       "                                    merchant        category     amt    first  \\\n",
       "0                      fraud_Kirlin and Sons   personal_care    2.86     Jeff   \n",
       "1                       fraud_Sporer-Keebler   personal_care   29.84   Joanne   \n",
       "2       fraud_Swaniawski, Nitzsche and Welch  health_fitness   41.28   Ashley   \n",
       "3                          fraud_Haley Group        misc_pos   60.05    Brian   \n",
       "4                      fraud_Johnston-Casper          travel    3.19   Nathan   \n",
       "...                                      ...             ...     ...      ...   \n",
       "555714                 fraud_Reilly and Sons  health_fitness   43.77  Michael   \n",
       "555715                  fraud_Hoppe-Parisian       kids_pets  111.84     Jose   \n",
       "555716                       fraud_Rau-Robel       kids_pets   86.88      Ann   \n",
       "555717                 fraud_Breitenberg LLC          travel    7.99     Eric   \n",
       "555718                     fraud_Dare-Marvin   entertainment   38.13   Samuel   \n",
       "\n",
       "            last gender                       street  ...      lat      long  \\\n",
       "0        Elliott      M            351 Darlene Green  ...  33.9659  -80.9355   \n",
       "1       Williams      F             3638 Marsh Union  ...  40.3207 -110.4360   \n",
       "2          Lopez      F         9333 Valentine Point  ...  40.6729  -73.5365   \n",
       "3       Williams      M  32941 Krystal Mill Apt. 552  ...  28.5697  -80.8191   \n",
       "4         Massey      M     5783 Evan Roads Apt. 465  ...  44.2529  -85.0170   \n",
       "...          ...    ...                          ...  ...      ...       ...   \n",
       "555714     Olson      M          558 Michael Estates  ...  40.4931  -91.8912   \n",
       "555715   Vasquez      M          572 Davis Mountains  ...  29.0393  -95.4401   \n",
       "555716    Lawson      F   144 Evans Islands Apt. 683  ...  46.1966 -118.9017   \n",
       "555717   Preston      M   7020 Doyle Stream Apt. 951  ...  44.6255 -116.4493   \n",
       "555718      Frey      M     830 Myers Plaza Apt. 384  ...  35.6665  -97.4798   \n",
       "\n",
       "        city_pop                     job         dob  \\\n",
       "0         333497     Mechanical engineer  1968-03-19   \n",
       "1            302  Sales professional, IT  1990-01-17   \n",
       "2          34496       Librarian, public  1970-10-21   \n",
       "3          54767            Set designer  1987-07-25   \n",
       "4           1126      Furniture designer  1955-07-06   \n",
       "...          ...                     ...         ...   \n",
       "555714       519            Town planner  1966-02-13   \n",
       "555715     28739          Futures trader  1999-12-27   \n",
       "555716      3684                Musician  1981-11-29   \n",
       "555717       129            Cartographer  1965-12-15   \n",
       "555718    116001             Media buyer  1993-05-10   \n",
       "\n",
       "                               trans_num   unix_time  merch_lat  merch_long  \\\n",
       "0       2da90c7d74bd46a0caf3777415b3ebd3  1371816865  33.986391  -81.200714   \n",
       "1       324cc204407e99f51b0d6ca0055005e7  1371816873  39.450498 -109.960431   \n",
       "2       c81755dbbbea9d5c77f094348a7579be  1371816893  40.495810  -74.196111   \n",
       "3       2159175b9efe66dc301f149d3d5abf8c  1371816915  28.812398  -80.883061   \n",
       "4       57ff021bd3f328f8738bb535c302a31b  1371816917  44.959148  -85.884734   \n",
       "...                                  ...         ...        ...         ...   \n",
       "555714  9b1f753c79894c9f4b71f04581835ada  1388534347  39.946837  -91.333331   \n",
       "555715  2090647dac2c89a1d86c514c427f5b91  1388534349  29.661049  -96.186633   \n",
       "555716  6c5b7c8add471975aa0fec023b2e8408  1388534355  46.658340 -119.715054   \n",
       "555717  14392d723bb7737606b2700ac791b7aa  1388534364  44.470525 -117.080888   \n",
       "555718  1765bb45b3aa3224b4cdcb6e7a96cee3  1388534374  36.210097  -97.036372   \n",
       "\n",
       "        is_fraud  \n",
       "0              0  \n",
       "1              0  \n",
       "2              0  \n",
       "3              0  \n",
       "4              0  \n",
       "...          ...  \n",
       "555714         0  \n",
       "555715         0  \n",
       "555716         0  \n",
       "555717         0  \n",
       "555718         0  \n",
       "\n",
       "[555719 rows x 23 columns]"
      ]
     },
     "execution_count": 33,
     "metadata": {},
     "output_type": "execute_result"
    }
   ],
   "source": [
    "transactions = pd.read_csv(\"fraudTest.csv\")\n",
    "transactions"
   ]
  },
  {
   "cell_type": "code",
   "execution_count": 34,
   "id": "0cc32fca",
   "metadata": {},
   "outputs": [
    {
     "data": {
      "text/plain": [
       "Unnamed: 0                 int64\n",
       "trans_date_trans_time     object\n",
       "cc_num                     int64\n",
       "merchant                  object\n",
       "category                  object\n",
       "amt                      float64\n",
       "first                     object\n",
       "last                      object\n",
       "gender                    object\n",
       "street                    object\n",
       "city                      object\n",
       "state                     object\n",
       "zip                        int64\n",
       "lat                      float64\n",
       "long                     float64\n",
       "city_pop                   int64\n",
       "job                       object\n",
       "dob                       object\n",
       "trans_num                 object\n",
       "unix_time                  int64\n",
       "merch_lat                float64\n",
       "merch_long               float64\n",
       "is_fraud                   int64\n",
       "dtype: object"
      ]
     },
     "execution_count": 34,
     "metadata": {},
     "output_type": "execute_result"
    }
   ],
   "source": [
    "transactions.dtypes"
   ]
  },
  {
   "cell_type": "code",
   "execution_count": 35,
   "id": "4d2117f5",
   "metadata": {},
   "outputs": [
    {
     "data": {
      "text/plain": [
       "is_fraud\n",
       "0    553574\n",
       "1      2145\n",
       "dtype: int64"
      ]
     },
     "execution_count": 35,
     "metadata": {},
     "output_type": "execute_result"
    }
   ],
   "source": [
    "category_count = transactions.value_counts('is_fraud')\n",
    "category_count"
   ]
  },
  {
   "cell_type": "code",
   "execution_count": 36,
   "id": "bf353b48",
   "metadata": {
    "scrolled": true
   },
   "outputs": [
    {
     "data": {
      "text/plain": [
       "<AxesSubplot:title={'center':'Occurences of Nonfraudulent (0) vs Fraudulent Transactions (1)'}, xlabel='is_fraud', ylabel='Occurences'>"
      ]
     },
     "execution_count": 36,
     "metadata": {},
     "output_type": "execute_result"
    },
    {
     "data": {
      "image/png": "[encoded data removed]",
      "text/plain": [
       "<Figure size 432x288 with 1 Axes>"
      ]
     },
     "metadata": {
      "needs_background": "light"
     },
     "output_type": "display_data"
    }
   ],
   "source": [
    "fraud_categories = transactions.value_counts('is_fraud').plot(kind = 'bar')\n",
    "# plt.xlabel(\"Is Fraud\", fontsize=16)\n",
    "plt.title(\"Occurences of Nonfraudulent (0) vs Fraudulent Transactions (1)\", fontsize=16)\n",
    "plt.ylabel(\"Occurences\", fontsize=12)\n",
    "fraud_categories"
   ]
  },
  {
   "cell_type": "code",
   "execution_count": 37,
   "id": "f7c8c757",
   "metadata": {},
   "outputs": [
    {
     "data": {
      "text/plain": [
       "is_fraud\n",
       "0    553574\n",
       "1      2145\n",
       "dtype: int64"
      ]
     },
     "execution_count": 37,
     "metadata": {},
     "output_type": "execute_result"
    }
   ],
   "source": [
    "type(category_count)\n",
    "category_count"
   ]
  },
  {
   "cell_type": "code",
   "execution_count": 38,
   "id": "53eb6ca2",
   "metadata": {},
   "outputs": [
    {
     "data": {
      "text/html": [
       "<div>\n",
       "<style scoped>\n",
       "    .dataframe tbody tr th:only-of-type {\n",
       "        vertical-align: middle;\n",
       "    }\n",
       "\n",
       "    .dataframe tbody tr th {\n",
       "        vertical-align: top;\n",
       "    }\n",
       "\n",
       "    .dataframe thead th {\n",
       "        text-align: right;\n",
       "    }\n",
       "</style>\n",
       "<table border=\"1\" class=\"dataframe\">\n",
       "  <thead>\n",
       "    <tr style=\"text-align: right;\">\n",
       "      <th></th>\n",
       "      <th>Unnamed: 0</th>\n",
       "      <th>trans_date_trans_time</th>\n",
       "      <th>cc_num</th>\n",
       "      <th>merchant</th>\n",
       "      <th>category</th>\n",
       "      <th>amt</th>\n",
       "      <th>first</th>\n",
       "      <th>last</th>\n",
       "      <th>gender</th>\n",
       "      <th>street</th>\n",
       "      <th>...</th>\n",
       "      <th>lat</th>\n",
       "      <th>long</th>\n",
       "      <th>city_pop</th>\n",
       "      <th>job</th>\n",
       "      <th>dob</th>\n",
       "      <th>trans_num</th>\n",
       "      <th>unix_time</th>\n",
       "      <th>merch_lat</th>\n",
       "      <th>merch_long</th>\n",
       "      <th>is_fraud</th>\n",
       "    </tr>\n",
       "  </thead>\n",
       "  <tbody>\n",
       "    <tr>\n",
       "      <th>1685</th>\n",
       "      <td>1685</td>\n",
       "      <td>2020-06-21 22:06:39</td>\n",
       "      <td>3560725013359375</td>\n",
       "      <td>fraud_Hamill-D'Amore</td>\n",
       "      <td>health_fitness</td>\n",
       "      <td>24.84</td>\n",
       "      <td>Brooke</td>\n",
       "      <td>Smith</td>\n",
       "      <td>F</td>\n",
       "      <td>63542 Luna Brook Apt. 012</td>\n",
       "      <td>...</td>\n",
       "      <td>31.8599</td>\n",
       "      <td>-102.7413</td>\n",
       "      <td>23</td>\n",
       "      <td>Cytogeneticist</td>\n",
       "      <td>1969-09-15</td>\n",
       "      <td>16bf2e46c54369a8eab2214649506425</td>\n",
       "      <td>1371852399</td>\n",
       "      <td>32.575873</td>\n",
       "      <td>-102.604290</td>\n",
       "      <td>1</td>\n",
       "    </tr>\n",
       "    <tr>\n",
       "      <th>1767</th>\n",
       "      <td>1767</td>\n",
       "      <td>2020-06-21 22:32:22</td>\n",
       "      <td>6564459919350820</td>\n",
       "      <td>fraud_Rodriguez, Yost and Jenkins</td>\n",
       "      <td>misc_net</td>\n",
       "      <td>780.52</td>\n",
       "      <td>Douglas</td>\n",
       "      <td>Willis</td>\n",
       "      <td>M</td>\n",
       "      <td>619 Jeremy Garden Apt. 681</td>\n",
       "      <td>...</td>\n",
       "      <td>42.5545</td>\n",
       "      <td>-90.3508</td>\n",
       "      <td>1306</td>\n",
       "      <td>Public relations officer</td>\n",
       "      <td>1958-09-10</td>\n",
       "      <td>ab4b379d2c0c9c667d46508d4e126d72</td>\n",
       "      <td>1371853942</td>\n",
       "      <td>42.461127</td>\n",
       "      <td>-91.147148</td>\n",
       "      <td>1</td>\n",
       "    </tr>\n",
       "    <tr>\n",
       "      <th>1781</th>\n",
       "      <td>1781</td>\n",
       "      <td>2020-06-21 22:37:27</td>\n",
       "      <td>6564459919350820</td>\n",
       "      <td>fraud_Nienow PLC</td>\n",
       "      <td>entertainment</td>\n",
       "      <td>620.33</td>\n",
       "      <td>Douglas</td>\n",
       "      <td>Willis</td>\n",
       "      <td>M</td>\n",
       "      <td>619 Jeremy Garden Apt. 681</td>\n",
       "      <td>...</td>\n",
       "      <td>42.5545</td>\n",
       "      <td>-90.3508</td>\n",
       "      <td>1306</td>\n",
       "      <td>Public relations officer</td>\n",
       "      <td>1958-09-10</td>\n",
       "      <td>47a9987ae81d99f7832a54b29a77bf4b</td>\n",
       "      <td>1371854247</td>\n",
       "      <td>42.771834</td>\n",
       "      <td>-90.158365</td>\n",
       "      <td>1</td>\n",
       "    </tr>\n",
       "    <tr>\n",
       "      <th>1784</th>\n",
       "      <td>1784</td>\n",
       "      <td>2020-06-21 22:38:55</td>\n",
       "      <td>4005676619255478</td>\n",
       "      <td>fraud_Heathcote, Yost and Kertzmann</td>\n",
       "      <td>shopping_net</td>\n",
       "      <td>1077.69</td>\n",
       "      <td>William</td>\n",
       "      <td>Perry</td>\n",
       "      <td>M</td>\n",
       "      <td>458 Phillips Island Apt. 768</td>\n",
       "      <td>...</td>\n",
       "      <td>30.4590</td>\n",
       "      <td>-90.9027</td>\n",
       "      <td>71335</td>\n",
       "      <td>Herbalist</td>\n",
       "      <td>1994-05-31</td>\n",
       "      <td>fe956c7e4a253c437c18918bf96f7b62</td>\n",
       "      <td>1371854335</td>\n",
       "      <td>31.204974</td>\n",
       "      <td>-90.261595</td>\n",
       "      <td>1</td>\n",
       "    </tr>\n",
       "    <tr>\n",
       "      <th>1857</th>\n",
       "      <td>1857</td>\n",
       "      <td>2020-06-21 23:02:16</td>\n",
       "      <td>3560725013359375</td>\n",
       "      <td>fraud_Hermann and Sons</td>\n",
       "      <td>shopping_pos</td>\n",
       "      <td>842.65</td>\n",
       "      <td>Brooke</td>\n",
       "      <td>Smith</td>\n",
       "      <td>F</td>\n",
       "      <td>63542 Luna Brook Apt. 012</td>\n",
       "      <td>...</td>\n",
       "      <td>31.8599</td>\n",
       "      <td>-102.7413</td>\n",
       "      <td>23</td>\n",
       "      <td>Cytogeneticist</td>\n",
       "      <td>1969-09-15</td>\n",
       "      <td>f6838c01f5d2262006e6b71d33ba7c6d</td>\n",
       "      <td>1371855736</td>\n",
       "      <td>31.315782</td>\n",
       "      <td>-102.736390</td>\n",
       "      <td>1</td>\n",
       "    </tr>\n",
       "    <tr>\n",
       "      <th>...</th>\n",
       "      <td>...</td>\n",
       "      <td>...</td>\n",
       "      <td>...</td>\n",
       "      <td>...</td>\n",
       "      <td>...</td>\n",
       "      <td>...</td>\n",
       "      <td>...</td>\n",
       "      <td>...</td>\n",
       "      <td>...</td>\n",
       "      <td>...</td>\n",
       "      <td>...</td>\n",
       "      <td>...</td>\n",
       "      <td>...</td>\n",
       "      <td>...</td>\n",
       "      <td>...</td>\n",
       "      <td>...</td>\n",
       "      <td>...</td>\n",
       "      <td>...</td>\n",
       "      <td>...</td>\n",
       "      <td>...</td>\n",
       "      <td>...</td>\n",
       "    </tr>\n",
       "    <tr>\n",
       "      <th>517197</th>\n",
       "      <td>517197</td>\n",
       "      <td>2020-12-22 22:05:48</td>\n",
       "      <td>2242176657877538</td>\n",
       "      <td>fraud_Willms, Kris and Bergnaum</td>\n",
       "      <td>shopping_pos</td>\n",
       "      <td>1041.51</td>\n",
       "      <td>Travis</td>\n",
       "      <td>Daniel</td>\n",
       "      <td>M</td>\n",
       "      <td>1327 Rose Causeway Apt. 610</td>\n",
       "      <td>...</td>\n",
       "      <td>34.6323</td>\n",
       "      <td>-89.8855</td>\n",
       "      <td>14462</td>\n",
       "      <td>Database administrator</td>\n",
       "      <td>1959-03-03</td>\n",
       "      <td>35b0297dd026d2e9a75d024a5dec7955</td>\n",
       "      <td>1387749948</td>\n",
       "      <td>34.573471</td>\n",
       "      <td>-89.911011</td>\n",
       "      <td>1</td>\n",
       "    </tr>\n",
       "    <tr>\n",
       "      <th>517274</th>\n",
       "      <td>517274</td>\n",
       "      <td>2020-12-22 22:18:07</td>\n",
       "      <td>2242176657877538</td>\n",
       "      <td>fraud_Kuhn LLC</td>\n",
       "      <td>shopping_pos</td>\n",
       "      <td>868.09</td>\n",
       "      <td>Travis</td>\n",
       "      <td>Daniel</td>\n",
       "      <td>M</td>\n",
       "      <td>1327 Rose Causeway Apt. 610</td>\n",
       "      <td>...</td>\n",
       "      <td>34.6323</td>\n",
       "      <td>-89.8855</td>\n",
       "      <td>14462</td>\n",
       "      <td>Database administrator</td>\n",
       "      <td>1959-03-03</td>\n",
       "      <td>da7f67d7375f10a054a3d919448c45dd</td>\n",
       "      <td>1387750687</td>\n",
       "      <td>34.091227</td>\n",
       "      <td>-90.390612</td>\n",
       "      <td>1</td>\n",
       "    </tr>\n",
       "    <tr>\n",
       "      <th>517341</th>\n",
       "      <td>517341</td>\n",
       "      <td>2020-12-22 22:31:48</td>\n",
       "      <td>2242176657877538</td>\n",
       "      <td>fraud_Mosciski, Ziemann and Farrell</td>\n",
       "      <td>shopping_net</td>\n",
       "      <td>1039.42</td>\n",
       "      <td>Travis</td>\n",
       "      <td>Daniel</td>\n",
       "      <td>M</td>\n",
       "      <td>1327 Rose Causeway Apt. 610</td>\n",
       "      <td>...</td>\n",
       "      <td>34.6323</td>\n",
       "      <td>-89.8855</td>\n",
       "      <td>14462</td>\n",
       "      <td>Database administrator</td>\n",
       "      <td>1959-03-03</td>\n",
       "      <td>25b076c7bcd70f272c1c5326bb234f4b</td>\n",
       "      <td>1387751508</td>\n",
       "      <td>34.628434</td>\n",
       "      <td>-90.284780</td>\n",
       "      <td>1</td>\n",
       "    </tr>\n",
       "    <tr>\n",
       "      <th>517529</th>\n",
       "      <td>517529</td>\n",
       "      <td>2020-12-22 23:06:03</td>\n",
       "      <td>2242176657877538</td>\n",
       "      <td>fraud_Bauch-Raynor</td>\n",
       "      <td>grocery_pos</td>\n",
       "      <td>289.27</td>\n",
       "      <td>Travis</td>\n",
       "      <td>Daniel</td>\n",
       "      <td>M</td>\n",
       "      <td>1327 Rose Causeway Apt. 610</td>\n",
       "      <td>...</td>\n",
       "      <td>34.6323</td>\n",
       "      <td>-89.8855</td>\n",
       "      <td>14462</td>\n",
       "      <td>Database administrator</td>\n",
       "      <td>1959-03-03</td>\n",
       "      <td>2df7d894868fbc99ec1d8b055585fc9d</td>\n",
       "      <td>1387753563</td>\n",
       "      <td>34.746063</td>\n",
       "      <td>-90.401093</td>\n",
       "      <td>1</td>\n",
       "    </tr>\n",
       "    <tr>\n",
       "      <th>517571</th>\n",
       "      <td>517571</td>\n",
       "      <td>2020-12-22 23:13:39</td>\n",
       "      <td>2242176657877538</td>\n",
       "      <td>fraud_Jaskolski-Vandervort</td>\n",
       "      <td>misc_net</td>\n",
       "      <td>766.38</td>\n",
       "      <td>Travis</td>\n",
       "      <td>Daniel</td>\n",
       "      <td>M</td>\n",
       "      <td>1327 Rose Causeway Apt. 610</td>\n",
       "      <td>...</td>\n",
       "      <td>34.6323</td>\n",
       "      <td>-89.8855</td>\n",
       "      <td>14462</td>\n",
       "      <td>Database administrator</td>\n",
       "      <td>1959-03-03</td>\n",
       "      <td>44292cbc51e37dc018ee6a988a4bc426</td>\n",
       "      <td>1387754019</td>\n",
       "      <td>33.771462</td>\n",
       "      <td>-90.651342</td>\n",
       "      <td>1</td>\n",
       "    </tr>\n",
       "  </tbody>\n",
       "</table>\n",
       "<p>2145 rows × 23 columns</p>\n",
       "</div>"
      ],
      "text/plain": [
       "        Unnamed: 0 trans_date_trans_time            cc_num  \\\n",
       "1685          1685   2020-06-21 22:06:39  3560725013359375   \n",
       "1767          1767   2020-06-21 22:32:22  6564459919350820   \n",
       "1781          1781   2020-06-21 22:37:27  6564459919350820   \n",
       "1784          1784   2020-06-21 22:38:55  4005676619255478   \n",
       "1857          1857   2020-06-21 23:02:16  3560725013359375   \n",
       "...            ...                   ...               ...   \n",
       "517197      517197   2020-12-22 22:05:48  2242176657877538   \n",
       "517274      517274   2020-12-22 22:18:07  2242176657877538   \n",
       "517341      517341   2020-12-22 22:31:48  2242176657877538   \n",
       "517529      517529   2020-12-22 23:06:03  2242176657877538   \n",
       "517571      517571   2020-12-22 23:13:39  2242176657877538   \n",
       "\n",
       "                                   merchant        category      amt    first  \\\n",
       "1685                   fraud_Hamill-D'Amore  health_fitness    24.84   Brooke   \n",
       "1767      fraud_Rodriguez, Yost and Jenkins        misc_net   780.52  Douglas   \n",
       "1781                       fraud_Nienow PLC   entertainment   620.33  Douglas   \n",
       "1784    fraud_Heathcote, Yost and Kertzmann    shopping_net  1077.69  William   \n",
       "1857                 fraud_Hermann and Sons    shopping_pos   842.65   Brooke   \n",
       "...                                     ...             ...      ...      ...   \n",
       "517197      fraud_Willms, Kris and Bergnaum    shopping_pos  1041.51   Travis   \n",
       "517274                       fraud_Kuhn LLC    shopping_pos   868.09   Travis   \n",
       "517341  fraud_Mosciski, Ziemann and Farrell    shopping_net  1039.42   Travis   \n",
       "517529                   fraud_Bauch-Raynor     grocery_pos   289.27   Travis   \n",
       "517571           fraud_Jaskolski-Vandervort        misc_net   766.38   Travis   \n",
       "\n",
       "          last gender                        street  ...      lat      long  \\\n",
       "1685     Smith      F     63542 Luna Brook Apt. 012  ...  31.8599 -102.7413   \n",
       "1767    Willis      M    619 Jeremy Garden Apt. 681  ...  42.5545  -90.3508   \n",
       "1781    Willis      M    619 Jeremy Garden Apt. 681  ...  42.5545  -90.3508   \n",
       "1784     Perry      M  458 Phillips Island Apt. 768  ...  30.4590  -90.9027   \n",
       "1857     Smith      F     63542 Luna Brook Apt. 012  ...  31.8599 -102.7413   \n",
       "...        ...    ...                           ...  ...      ...       ...   \n",
       "517197  Daniel      M   1327 Rose Causeway Apt. 610  ...  34.6323  -89.8855   \n",
       "517274  Daniel      M   1327 Rose Causeway Apt. 610  ...  34.6323  -89.8855   \n",
       "517341  Daniel      M   1327 Rose Causeway Apt. 610  ...  34.6323  -89.8855   \n",
       "517529  Daniel      M   1327 Rose Causeway Apt. 610  ...  34.6323  -89.8855   \n",
       "517571  Daniel      M   1327 Rose Causeway Apt. 610  ...  34.6323  -89.8855   \n",
       "\n",
       "        city_pop                       job         dob  \\\n",
       "1685          23            Cytogeneticist  1969-09-15   \n",
       "1767        1306  Public relations officer  1958-09-10   \n",
       "1781        1306  Public relations officer  1958-09-10   \n",
       "1784       71335                 Herbalist  1994-05-31   \n",
       "1857          23            Cytogeneticist  1969-09-15   \n",
       "...          ...                       ...         ...   \n",
       "517197     14462    Database administrator  1959-03-03   \n",
       "517274     14462    Database administrator  1959-03-03   \n",
       "517341     14462    Database administrator  1959-03-03   \n",
       "517529     14462    Database administrator  1959-03-03   \n",
       "517571     14462    Database administrator  1959-03-03   \n",
       "\n",
       "                               trans_num   unix_time  merch_lat  merch_long  \\\n",
       "1685    16bf2e46c54369a8eab2214649506425  1371852399  32.575873 -102.604290   \n",
       "1767    ab4b379d2c0c9c667d46508d4e126d72  1371853942  42.461127  -91.147148   \n",
       "1781    47a9987ae81d99f7832a54b29a77bf4b  1371854247  42.771834  -90.158365   \n",
       "1784    fe956c7e4a253c437c18918bf96f7b62  1371854335  31.204974  -90.261595   \n",
       "1857    f6838c01f5d2262006e6b71d33ba7c6d  1371855736  31.315782 -102.736390   \n",
       "...                                  ...         ...        ...         ...   \n",
       "517197  35b0297dd026d2e9a75d024a5dec7955  1387749948  34.573471  -89.911011   \n",
       "517274  da7f67d7375f10a054a3d919448c45dd  1387750687  34.091227  -90.390612   \n",
       "517341  25b076c7bcd70f272c1c5326bb234f4b  1387751508  34.628434  -90.284780   \n",
       "517529  2df7d894868fbc99ec1d8b055585fc9d  1387753563  34.746063  -90.401093   \n",
       "517571  44292cbc51e37dc018ee6a988a4bc426  1387754019  33.771462  -90.651342   \n",
       "\n",
       "        is_fraud  \n",
       "1685           1  \n",
       "1767           1  \n",
       "1781           1  \n",
       "1784           1  \n",
       "1857           1  \n",
       "...          ...  \n",
       "517197         1  \n",
       "517274         1  \n",
       "517341         1  \n",
       "517529         1  \n",
       "517571         1  \n",
       "\n",
       "[2145 rows x 23 columns]"
      ]
     },
     "execution_count": 38,
     "metadata": {},
     "output_type": "execute_result"
    }
   ],
   "source": [
    "fraudulent_transactions = transactions[transactions['is_fraud']==1]\n",
    "fraudulent_transactions"
   ]
  },
  {
   "cell_type": "markdown",
   "id": "94308dc1",
   "metadata": {},
   "source": [
    "# Data Visualizations"
   ]
  },
  {
   "cell_type": "code",
   "execution_count": 39,
   "id": "e1faaca5",
   "metadata": {},
   "outputs": [],
   "source": [
    "state_value_counts = fraudulent_transactions['state'].value_counts()\n",
    "# type(state_value_counts)\n",
    "# state_value_counts\n",
    "# state_value_counts.index"
   ]
  },
  {
   "cell_type": "code",
   "execution_count": 40,
   "id": "ceffc8e3",
   "metadata": {},
   "outputs": [],
   "source": [
    "state_value_counts_df = state_value_counts.to_frame()\n",
    "# state_value_counts_df.columns.values\n",
    "# state_value_counts_df"
   ]
  },
  {
   "cell_type": "code",
   "execution_count": 41,
   "id": "398b515d",
   "metadata": {},
   "outputs": [],
   "source": [
    "state_value_counts_df.rename(columns = {'state': 'targeted customers'}, inplace = True)\n",
    "state_value_counts_df[\"state\"] = state_value_counts_df.index\n",
    "# state_value_counts_df"
   ]
  },
  {
   "cell_type": "code",
   "execution_count": 42,
   "id": "e039145d",
   "metadata": {},
   "outputs": [
    {
     "data": {
      "application/vnd.plotly.v1+json": {
       "config": {
        "plotlyServerURL": "https://plot.ly"
       },
       "data": [
        {
         "coloraxis": "coloraxis",
         "geo": "geo",
         "hovertemplate": "state=%{location}<br>targeted customers=%{z}<extra></extra>",
         "locationmode": "USA-states",
         "locations": [
          "NY",
          "PA",
          "TX",
          "CA",
          "IL",
          "VA",
          "IN",
          "MN",
          "MO",
          "IA",
          "KY",
          "WI",
          "AL",
          "MI",
          "GA",
          "OK",
          "MS",
          "FL",
          "OR",
          "NC",
          "MD",
          "NJ",
          "SC",
          "CT",
          "NM",
          "OH",
          "MT",
          "KS",
          "NE",
          "AR",
          "WA",
          "AZ",
          "ND",
          "LA",
          "ID",
          "NH",
          "TN",
          "MA",
          "SD",
          "ME",
          "AK",
          "DC",
          "WY",
          "HI",
          "CO"
         ],
         "name": "",
         "type": "choropleth",
         "z": [
          175,
          114,
          113,
          76,
          76,
          75,
          75,
          73,
          71,
          69,
          67,
          65,
          63,
          61,
          58,
          57,
          54,
          53,
          48,
          46,
          46,
          43,
          43,
          40,
          39,
          39,
          37,
          37,
          36,
          34,
          30,
          27,
          27,
          22,
          22,
          20,
          19,
          18,
          18,
          15,
          14,
          10,
          9,
          9,
          2
         ]
        }
       ],
       "layout": {
        "coloraxis": {
         "colorbar": {
          "title": {
           "text": "targeted customers"
          }
         },
         "colorscale": [
          [
           0,
           "rgb(230, 240, 240)"
          ],
          [
           0.09090909090909091,
           "rgb(191, 221, 229)"
          ],
          [
           0.18181818181818182,
           "rgb(156, 201, 226)"
          ],
          [
           0.2727272727272727,
           "rgb(129, 180, 227)"
          ],
          [
           0.36363636363636365,
           "rgb(115, 154, 228)"
          ],
          [
           0.45454545454545453,
           "rgb(117, 127, 221)"
          ],
          [
           0.5454545454545454,
           "rgb(120, 100, 202)"
          ],
          [
           0.6363636363636364,
           "rgb(119, 74, 175)"
          ],
          [
           0.7272727272727273,
           "rgb(113, 50, 141)"
          ],
          [
           0.8181818181818182,
           "rgb(100, 31, 104)"
          ],
          [
           0.9090909090909091,
           "rgb(80, 20, 66)"
          ],
          [
           1,
           "rgb(54, 14, 36)"
          ]
         ]
        },
        "geo": {
         "center": {},
         "domain": {
          "x": [
           0,
           1
          ],
          "y": [
           0,
           1
          ]
         },
         "scope": "usa"
        },
        "legend": {
         "tracegroupgap": 0
        },
        "margin": {
         "t": 60
        },
        "template": {
         "data": {
          "bar": [
           {
            "error_x": {
             "color": "#2a3f5f"
            },
            "error_y": {
             "color": "#2a3f5f"
            },
            "marker": {
             "line": {
              "color": "#E5ECF6",
              "width": 0.5
             },
             "pattern": {
              "fillmode": "overlay",
              "size": 10,
              "solidity": 0.2
             }
            },
            "type": "bar"
           }
          ],
          "barpolar": [
           {
            "marker": {
             "line": {
              "color": "#E5ECF6",
              "width": 0.5
             },
             "pattern": {
              "fillmode": "overlay",
              "size": 10,
              "solidity": 0.2
             }
            },
            "type": "barpolar"
           }
          ],
          "carpet": [
           {
            "aaxis": {
             "endlinecolor": "#2a3f5f",
             "gridcolor": "white",
             "linecolor": "white",
             "minorgridcolor": "white",
             "startlinecolor": "#2a3f5f"
            },
            "baxis": {
             "endlinecolor": "#2a3f5f",
             "gridcolor": "white",
             "linecolor": "white",
             "minorgridcolor": "white",
             "startlinecolor": "#2a3f5f"
            },
            "type": "carpet"
           }
          ],
          "choropleth": [
           {
            "colorbar": {
             "outlinewidth": 0,
             "ticks": ""
            },
            "type": "choropleth"
           }
          ],
          "contour": [
           {
            "colorbar": {
             "outlinewidth": 0,
             "ticks": ""
            },
            "colorscale": [
             [
              0,
              "#0d0887"
             ],
             [
              0.1111111111111111,
              "#46039f"
             ],
             [
              0.2222222222222222,
              "#7201a8"
             ],
             [
              0.3333333333333333,
              "#9c179e"
             ],
             [
              0.4444444444444444,
              "#bd3786"
             ],
             [
              0.5555555555555556,
              "#d8576b"
             ],
             [
              0.6666666666666666,
              "#ed7953"
             ],
             [
              0.7777777777777778,
              "#fb9f3a"
             ],
             [
              0.8888888888888888,
              "#fdca26"
             ],
             [
              1,
              "#f0f921"
             ]
            ],
            "type": "contour"
           }
          ],
          "contourcarpet": [
           {
            "colorbar": {
             "outlinewidth": 0,
             "ticks": ""
            },
            "type": "contourcarpet"
           }
          ],
          "heatmap": [
           {
            "colorbar": {
             "outlinewidth": 0,
             "ticks": ""
            },
            "colorscale": [
             [
              0,
              "#0d0887"
             ],
             [
              0.1111111111111111,
              "#46039f"
             ],
             [
              0.2222222222222222,
              "#7201a8"
             ],
             [
              0.3333333333333333,
              "#9c179e"
             ],
             [
              0.4444444444444444,
              "#bd3786"
             ],
             [
              0.5555555555555556,
              "#d8576b"
             ],
             [
              0.6666666666666666,
              "#ed7953"
             ],
             [
              0.7777777777777778,
              "#fb9f3a"
             ],
             [
              0.8888888888888888,
              "#fdca26"
             ],
             [
              1,
              "#f0f921"
             ]
            ],
            "type": "heatmap"
           }
          ],
          "heatmapgl": [
           {
            "colorbar": {
             "outlinewidth": 0,
             "ticks": ""
            },
            "colorscale": [
             [
              0,
              "#0d0887"
             ],
             [
              0.1111111111111111,
              "#46039f"
             ],
             [
              0.2222222222222222,
              "#7201a8"
             ],
             [
              0.3333333333333333,
              "#9c179e"
             ],
             [
              0.4444444444444444,
              "#bd3786"
             ],
             [
              0.5555555555555556,
              "#d8576b"
             ],
             [
              0.6666666666666666,
              "#ed7953"
             ],
             [
              0.7777777777777778,
              "#fb9f3a"
             ],
             [
              0.8888888888888888,
              "#fdca26"
             ],
             [
              1,
              "#f0f921"
             ]
            ],
            "type": "heatmapgl"
           }
          ],
          "histogram": [
           {
            "marker": {
             "pattern": {
              "fillmode": "overlay",
              "size": 10,
              "solidity": 0.2
             }
            },
            "type": "histogram"
           }
          ],
          "histogram2d": [
           {
            "colorbar": {
             "outlinewidth": 0,
             "ticks": ""
            },
            "colorscale": [
             [
              0,
              "#0d0887"
             ],
             [
              0.1111111111111111,
              "#46039f"
             ],
             [
              0.2222222222222222,
              "#7201a8"
             ],
             [
              0.3333333333333333,
              "#9c179e"
             ],
             [
              0.4444444444444444,
              "#bd3786"
             ],
             [
              0.5555555555555556,
              "#d8576b"
             ],
             [
              0.6666666666666666,
              "#ed7953"
             ],
             [
              0.7777777777777778,
              "#fb9f3a"
             ],
             [
              0.8888888888888888,
              "#fdca26"
             ],
             [
              1,
              "#f0f921"
             ]
            ],
            "type": "histogram2d"
           }
          ],
          "histogram2dcontour": [
           {
            "colorbar": {
             "outlinewidth": 0,
             "ticks": ""
            },
            "colorscale": [
             [
              0,
              "#0d0887"
             ],
             [
              0.1111111111111111,
              "#46039f"
             ],
             [
              0.2222222222222222,
              "#7201a8"
             ],
             [
              0.3333333333333333,
              "#9c179e"
             ],
             [
              0.4444444444444444,
              "#bd3786"
             ],
             [
              0.5555555555555556,
              "#d8576b"
             ],
             [
              0.6666666666666666,
              "#ed7953"
             ],
             [
              0.7777777777777778,
              "#fb9f3a"
             ],
             [
              0.8888888888888888,
              "#fdca26"
             ],
             [
              1,
              "#f0f921"
             ]
            ],
            "type": "histogram2dcontour"
           }
          ],
          "mesh3d": [
           {
            "colorbar": {
             "outlinewidth": 0,
             "ticks": ""
            },
            "type": "mesh3d"
           }
          ],
          "parcoords": [
           {
            "line": {
             "colorbar": {
              "outlinewidth": 0,
              "ticks": ""
             }
            },
            "type": "parcoords"
           }
          ],
          "pie": [
           {
            "automargin": true,
            "type": "pie"
           }
          ],
          "scatter": [
           {
            "marker": {
             "colorbar": {
              "outlinewidth": 0,
              "ticks": ""
             }
            },
            "type": "scatter"
           }
          ],
          "scatter3d": [
           {
            "line": {
             "colorbar": {
              "outlinewidth": 0,
              "ticks": ""
             }
            },
            "marker": {
             "colorbar": {
              "outlinewidth": 0,
              "ticks": ""
             }
            },
            "type": "scatter3d"
           }
          ],
          "scattercarpet": [
           {
            "marker": {
             "colorbar": {
              "outlinewidth": 0,
              "ticks": ""
             }
            },
            "type": "scattercarpet"
           }
          ],
          "scattergeo": [
           {
            "marker": {
             "colorbar": {
              "outlinewidth": 0,
              "ticks": ""
             }
            },
            "type": "scattergeo"
           }
          ],
          "scattergl": [
           {
            "marker": {
             "colorbar": {
              "outlinewidth": 0,
              "ticks": ""
             }
            },
            "type": "scattergl"
           }
          ],
          "scattermapbox": [
           {
            "marker": {
             "colorbar": {
              "outlinewidth": 0,
              "ticks": ""
             }
            },
            "type": "scattermapbox"
           }
          ],
          "scatterpolar": [
           {
            "marker": {
             "colorbar": {
              "outlinewidth": 0,
              "ticks": ""
             }
            },
            "type": "scatterpolar"
           }
          ],
          "scatterpolargl": [
           {
            "marker": {
             "colorbar": {
              "outlinewidth": 0,
              "ticks": ""
             }
            },
            "type": "scatterpolargl"
           }
          ],
          "scatterternary": [
           {
            "marker": {
             "colorbar": {
              "outlinewidth": 0,
              "ticks": ""
             }
            },
            "type": "scatterternary"
           }
          ],
          "surface": [
           {
            "colorbar": {
             "outlinewidth": 0,
             "ticks": ""
            },
            "colorscale": [
             [
              0,
              "#0d0887"
             ],
             [
              0.1111111111111111,
              "#46039f"
             ],
             [
              0.2222222222222222,
              "#7201a8"
             ],
             [
              0.3333333333333333,
              "#9c179e"
             ],
             [
              0.4444444444444444,
              "#bd3786"
             ],
             [
              0.5555555555555556,
              "#d8576b"
             ],
             [
              0.6666666666666666,
              "#ed7953"
             ],
             [
              0.7777777777777778,
              "#fb9f3a"
             ],
             [
              0.8888888888888888,
              "#fdca26"
             ],
             [
              1,
              "#f0f921"
             ]
            ],
            "type": "surface"
           }
          ],
          "table": [
           {
            "cells": {
             "fill": {
              "color": "#EBF0F8"
             },
             "line": {
              "color": "white"
             }
            },
            "header": {
             "fill": {
              "color": "#C8D4E3"
             },
             "line": {
              "color": "white"
             }
            },
            "type": "table"
           }
          ]
         },
         "layout": {
          "annotationdefaults": {
           "arrowcolor": "#2a3f5f",
           "arrowhead": 0,
           "arrowwidth": 1
          },
          "autotypenumbers": "strict",
          "coloraxis": {
           "colorbar": {
            "outlinewidth": 0,
            "ticks": ""
           }
          },
          "colorscale": {
           "diverging": [
            [
             0,
             "#8e0152"
            ],
            [
             0.1,
             "#c51b7d"
            ],
            [
             0.2,
             "#de77ae"
            ],
            [
             0.3,
             "#f1b6da"
            ],
            [
             0.4,
             "#fde0ef"
            ],
            [
             0.5,
             "#f7f7f7"
            ],
            [
             0.6,
             "#e6f5d0"
            ],
            [
             0.7,
             "#b8e186"
            ],
            [
             0.8,
             "#7fbc41"
            ],
            [
             0.9,
             "#4d9221"
            ],
            [
             1,
             "#276419"
            ]
           ],
           "sequential": [
            [
             0,
             "#0d0887"
            ],
            [
             0.1111111111111111,
             "#46039f"
            ],
            [
             0.2222222222222222,
             "#7201a8"
            ],
            [
             0.3333333333333333,
             "#9c179e"
            ],
            [
             0.4444444444444444,
             "#bd3786"
            ],
            [
             0.5555555555555556,
             "#d8576b"
            ],
            [
             0.6666666666666666,
             "#ed7953"
            ],
            [
             0.7777777777777778,
             "#fb9f3a"
            ],
            [
             0.8888888888888888,
             "#fdca26"
            ],
            [
             1,
             "#f0f921"
            ]
           ],
           "sequentialminus": [
            [
             0,
             "#0d0887"
            ],
            [
             0.1111111111111111,
             "#46039f"
            ],
            [
             0.2222222222222222,
             "#7201a8"
            ],
            [
             0.3333333333333333,
             "#9c179e"
            ],
            [
             0.4444444444444444,
             "#bd3786"
            ],
            [
             0.5555555555555556,
             "#d8576b"
            ],
            [
             0.6666666666666666,
             "#ed7953"
            ],
            [
             0.7777777777777778,
             "#fb9f3a"
            ],
            [
             0.8888888888888888,
             "#fdca26"
            ],
            [
             1,
             "#f0f921"
            ]
           ]
          },
          "colorway": [
           "#636efa",
           "#EF553B",
           "#00cc96",
           "#ab63fa",
           "#FFA15A",
           "#19d3f3",
           "#FF6692",
           "#B6E880",
           "#FF97FF",
           "#FECB52"
          ],
          "font": {
           "color": "#2a3f5f"
          },
          "geo": {
           "bgcolor": "white",
           "lakecolor": "white",
           "landcolor": "#E5ECF6",
           "showlakes": true,
           "showland": true,
           "subunitcolor": "white"
          },
          "hoverlabel": {
           "align": "left"
          },
          "hovermode": "closest",
          "mapbox": {
           "style": "light"
          },
          "paper_bgcolor": "white",
          "plot_bgcolor": "#E5ECF6",
          "polar": {
           "angularaxis": {
            "gridcolor": "white",
            "linecolor": "white",
            "ticks": ""
           },
           "bgcolor": "#E5ECF6",
           "radialaxis": {
            "gridcolor": "white",
            "linecolor": "white",
            "ticks": ""
           }
          },
          "scene": {
           "xaxis": {
            "backgroundcolor": "#E5ECF6",
            "gridcolor": "white",
            "gridwidth": 2,
            "linecolor": "white",
            "showbackground": true,
            "ticks": "",
            "zerolinecolor": "white"
           },
           "yaxis": {
            "backgroundcolor": "#E5ECF6",
            "gridcolor": "white",
            "gridwidth": 2,
            "linecolor": "white",
            "showbackground": true,
            "ticks": "",
            "zerolinecolor": "white"
           },
           "zaxis": {
            "backgroundcolor": "#E5ECF6",
            "gridcolor": "white",
            "gridwidth": 2,
            "linecolor": "white",
            "showbackground": true,
            "ticks": "",
            "zerolinecolor": "white"
           }
          },
          "shapedefaults": {
           "line": {
            "color": "#2a3f5f"
           }
          },
          "ternary": {
           "aaxis": {
            "gridcolor": "white",
            "linecolor": "white",
            "ticks": ""
           },
           "baxis": {
            "gridcolor": "white",
            "linecolor": "white",
            "ticks": ""
           },
           "bgcolor": "#E5ECF6",
           "caxis": {
            "gridcolor": "white",
            "linecolor": "white",
            "ticks": ""
           }
          },
          "title": {
           "x": 0.05
          },
          "xaxis": {
           "automargin": true,
           "gridcolor": "white",
           "linecolor": "white",
           "ticks": "",
           "title": {
            "standoff": 15
           },
           "zerolinecolor": "white",
           "zerolinewidth": 2
          },
          "yaxis": {
           "automargin": true,
           "gridcolor": "white",
           "linecolor": "white",
           "ticks": "",
           "title": {
            "standoff": 15
           },
           "zerolinecolor": "white",
           "zerolinewidth": 2
          }
         }
        }
       }
      },
      "text/html": [
       "<div>                            <div id=\"e1d0b621-c68f-4ab3-9154-fb7ec9458932\" class=\"plotly-graph-div\" style=\"height:525px; width:100%;\"></div>            <script type=\"text/javascript\">                require([\"plotly\"], function(Plotly) {                    window.PLOTLYENV=window.PLOTLYENV || {};                                    if (document.getElementById(\"e1d0b621-c68f-4ab3-9154-fb7ec9458932\")) {                    Plotly.newPlot(                        \"e1d0b621-c68f-4ab3-9154-fb7ec9458932\",                        [{\"coloraxis\":\"coloraxis\",\"geo\":\"geo\",\"hovertemplate\":\"state=%{location}<br>targeted customers=%{z}<extra></extra>\",\"locationmode\":\"USA-states\",\"locations\":[\"NY\",\"PA\",\"TX\",\"CA\",\"IL\",\"VA\",\"IN\",\"MN\",\"MO\",\"IA\",\"KY\",\"WI\",\"AL\",\"MI\",\"GA\",\"OK\",\"MS\",\"FL\",\"OR\",\"NC\",\"MD\",\"NJ\",\"SC\",\"CT\",\"NM\",\"OH\",\"MT\",\"KS\",\"NE\",\"AR\",\"WA\",\"AZ\",\"ND\",\"LA\",\"ID\",\"NH\",\"TN\",\"MA\",\"SD\",\"ME\",\"AK\",\"DC\",\"WY\",\"HI\",\"CO\"],\"name\":\"\",\"type\":\"choropleth\",\"z\":[175,114,113,76,76,75,75,73,71,69,67,65,63,61,58,57,54,53,48,46,46,43,43,40,39,39,37,37,36,34,30,27,27,22,22,20,19,18,18,15,14,10,9,9,2]}],                        {\"coloraxis\":{\"colorbar\":{\"title\":{\"text\":\"targeted customers\"}},\"colorscale\":[[0.0,\"rgb(230, 240, 240)\"],[0.09090909090909091,\"rgb(191, 221, 229)\"],[0.18181818181818182,\"rgb(156, 201, 226)\"],[0.2727272727272727,\"rgb(129, 180, 227)\"],[0.36363636363636365,\"rgb(115, 154, 228)\"],[0.45454545454545453,\"rgb(117, 127, 221)\"],[0.5454545454545454,\"rgb(120, 100, 202)\"],[0.6363636363636364,\"rgb(119, 74, 175)\"],[0.7272727272727273,\"rgb(113, 50, 141)\"],[0.8181818181818182,\"rgb(100, 31, 104)\"],[0.9090909090909091,\"rgb(80, 20, 66)\"],[1.0,\"rgb(54, 14, 36)\"]]},\"geo\":{\"center\":{},\"domain\":{\"x\":[0.0,1.0],\"y\":[0.0,1.0]},\"scope\":\"usa\"},\"legend\":{\"tracegroupgap\":0},\"margin\":{\"t\":60},\"template\":{\"data\":{\"bar\":[{\"error_x\":{\"color\":\"#2a3f5f\"},\"error_y\":{\"color\":\"#2a3f5f\"},\"marker\":{\"line\":{\"color\":\"#E5ECF6\",\"width\":0.5},\"pattern\":{\"fillmode\":\"overlay\",\"size\":10,\"solidity\":0.2}},\"type\":\"bar\"}],\"barpolar\":[{\"marker\":{\"line\":{\"color\":\"#E5ECF6\",\"width\":0.5},\"pattern\":{\"fillmode\":\"overlay\",\"size\":10,\"solidity\":0.2}},\"type\":\"barpolar\"}],\"carpet\":[{\"aaxis\":{\"endlinecolor\":\"#2a3f5f\",\"gridcolor\":\"white\",\"linecolor\":\"white\",\"minorgridcolor\":\"white\",\"startlinecolor\":\"#2a3f5f\"},\"baxis\":{\"endlinecolor\":\"#2a3f5f\",\"gridcolor\":\"white\",\"linecolor\":\"white\",\"minorgridcolor\":\"white\",\"startlinecolor\":\"#2a3f5f\"},\"type\":\"carpet\"}],\"choropleth\":[{\"colorbar\":{\"outlinewidth\":0,\"ticks\":\"\"},\"type\":\"choropleth\"}],\"contour\":[{\"colorbar\":{\"outlinewidth\":0,\"ticks\":\"\"},\"colorscale\":[[0.0,\"#0d0887\"],[0.1111111111111111,\"#46039f\"],[0.2222222222222222,\"#7201a8\"],[0.3333333333333333,\"#9c179e\"],[0.4444444444444444,\"#bd3786\"],[0.5555555555555556,\"#d8576b\"],[0.6666666666666666,\"#ed7953\"],[0.7777777777777778,\"#fb9f3a\"],[0.8888888888888888,\"#fdca26\"],[1.0,\"#f0f921\"]],\"type\":\"contour\"}],\"contourcarpet\":[{\"colorbar\":{\"outlinewidth\":0,\"ticks\":\"\"},\"type\":\"contourcarpet\"}],\"heatmap\":[{\"colorbar\":{\"outlinewidth\":0,\"ticks\":\"\"},\"colorscale\":[[0.0,\"#0d0887\"],[0.1111111111111111,\"#46039f\"],[0.2222222222222222,\"#7201a8\"],[0.3333333333333333,\"#9c179e\"],[0.4444444444444444,\"#bd3786\"],[0.5555555555555556,\"#d8576b\"],[0.6666666666666666,\"#ed7953\"],[0.7777777777777778,\"#fb9f3a\"],[0.8888888888888888,\"#fdca26\"],[1.0,\"#f0f921\"]],\"type\":\"heatmap\"}],\"heatmapgl\":[{\"colorbar\":{\"outlinewidth\":0,\"ticks\":\"\"},\"colorscale\":[[0.0,\"#0d0887\"],[0.1111111111111111,\"#46039f\"],[0.2222222222222222,\"#7201a8\"],[0.3333333333333333,\"#9c179e\"],[0.4444444444444444,\"#bd3786\"],[0.5555555555555556,\"#d8576b\"],[0.6666666666666666,\"#ed7953\"],[0.7777777777777778,\"#fb9f3a\"],[0.8888888888888888,\"#fdca26\"],[1.0,\"#f0f921\"]],\"type\":\"heatmapgl\"}],\"histogram\":[{\"marker\":{\"pattern\":{\"fillmode\":\"overlay\",\"size\":10,\"solidity\":0.2}},\"type\":\"histogram\"}],\"histogram2d\":[{\"colorbar\":{\"outlinewidth\":0,\"ticks\":\"\"},\"colorscale\":[[0.0,\"#0d0887\"],[0.1111111111111111,\"#46039f\"],[0.2222222222222222,\"#7201a8\"],[0.3333333333333333,\"#9c179e\"],[0.4444444444444444,\"#bd3786\"],[0.5555555555555556,\"#d8576b\"],[0.6666666666666666,\"#ed7953\"],[0.7777777777777778,\"#fb9f3a\"],[0.8888888888888888,\"#fdca26\"],[1.0,\"#f0f921\"]],\"type\":\"histogram2d\"}],\"histogram2dcontour\":[{\"colorbar\":{\"outlinewidth\":0,\"ticks\":\"\"},\"colorscale\":[[0.0,\"#0d0887\"],[0.1111111111111111,\"#46039f\"],[0.2222222222222222,\"#7201a8\"],[0.3333333333333333,\"#9c179e\"],[0.4444444444444444,\"#bd3786\"],[0.5555555555555556,\"#d8576b\"],[0.6666666666666666,\"#ed7953\"],[0.7777777777777778,\"#fb9f3a\"],[0.8888888888888888,\"#fdca26\"],[1.0,\"#f0f921\"]],\"type\":\"histogram2dcontour\"}],\"mesh3d\":[{\"colorbar\":{\"outlinewidth\":0,\"ticks\":\"\"},\"type\":\"mesh3d\"}],\"parcoords\":[{\"line\":{\"colorbar\":{\"outlinewidth\":0,\"ticks\":\"\"}},\"type\":\"parcoords\"}],\"pie\":[{\"automargin\":true,\"type\":\"pie\"}],\"scatter\":[{\"marker\":{\"colorbar\":{\"outlinewidth\":0,\"ticks\":\"\"}},\"type\":\"scatter\"}],\"scatter3d\":[{\"line\":{\"colorbar\":{\"outlinewidth\":0,\"ticks\":\"\"}},\"marker\":{\"colorbar\":{\"outlinewidth\":0,\"ticks\":\"\"}},\"type\":\"scatter3d\"}],\"scattercarpet\":[{\"marker\":{\"colorbar\":{\"outlinewidth\":0,\"ticks\":\"\"}},\"type\":\"scattercarpet\"}],\"scattergeo\":[{\"marker\":{\"colorbar\":{\"outlinewidth\":0,\"ticks\":\"\"}},\"type\":\"scattergeo\"}],\"scattergl\":[{\"marker\":{\"colorbar\":{\"outlinewidth\":0,\"ticks\":\"\"}},\"type\":\"scattergl\"}],\"scattermapbox\":[{\"marker\":{\"colorbar\":{\"outlinewidth\":0,\"ticks\":\"\"}},\"type\":\"scattermapbox\"}],\"scatterpolar\":[{\"marker\":{\"colorbar\":{\"outlinewidth\":0,\"ticks\":\"\"}},\"type\":\"scatterpolar\"}],\"scatterpolargl\":[{\"marker\":{\"colorbar\":{\"outlinewidth\":0,\"ticks\":\"\"}},\"type\":\"scatterpolargl\"}],\"scatterternary\":[{\"marker\":{\"colorbar\":{\"outlinewidth\":0,\"ticks\":\"\"}},\"type\":\"scatterternary\"}],\"surface\":[{\"colorbar\":{\"outlinewidth\":0,\"ticks\":\"\"},\"colorscale\":[[0.0,\"#0d0887\"],[0.1111111111111111,\"#46039f\"],[0.2222222222222222,\"#7201a8\"],[0.3333333333333333,\"#9c179e\"],[0.4444444444444444,\"#bd3786\"],[0.5555555555555556,\"#d8576b\"],[0.6666666666666666,\"#ed7953\"],[0.7777777777777778,\"#fb9f3a\"],[0.8888888888888888,\"#fdca26\"],[1.0,\"#f0f921\"]],\"type\":\"surface\"}],\"table\":[{\"cells\":{\"fill\":{\"color\":\"#EBF0F8\"},\"line\":{\"color\":\"white\"}},\"header\":{\"fill\":{\"color\":\"#C8D4E3\"},\"line\":{\"color\":\"white\"}},\"type\":\"table\"}]},\"layout\":{\"annotationdefaults\":{\"arrowcolor\":\"#2a3f5f\",\"arrowhead\":0,\"arrowwidth\":1},\"autotypenumbers\":\"strict\",\"coloraxis\":{\"colorbar\":{\"outlinewidth\":0,\"ticks\":\"\"}},\"colorscale\":{\"diverging\":[[0,\"#8e0152\"],[0.1,\"#c51b7d\"],[0.2,\"#de77ae\"],[0.3,\"#f1b6da\"],[0.4,\"#fde0ef\"],[0.5,\"#f7f7f7\"],[0.6,\"#e6f5d0\"],[0.7,\"#b8e186\"],[0.8,\"#7fbc41\"],[0.9,\"#4d9221\"],[1,\"#276419\"]],\"sequential\":[[0.0,\"#0d0887\"],[0.1111111111111111,\"#46039f\"],[0.2222222222222222,\"#7201a8\"],[0.3333333333333333,\"#9c179e\"],[0.4444444444444444,\"#bd3786\"],[0.5555555555555556,\"#d8576b\"],[0.6666666666666666,\"#ed7953\"],[0.7777777777777778,\"#fb9f3a\"],[0.8888888888888888,\"#fdca26\"],[1.0,\"#f0f921\"]],\"sequentialminus\":[[0.0,\"#0d0887\"],[0.1111111111111111,\"#46039f\"],[0.2222222222222222,\"#7201a8\"],[0.3333333333333333,\"#9c179e\"],[0.4444444444444444,\"#bd3786\"],[0.5555555555555556,\"#d8576b\"],[0.6666666666666666,\"#ed7953\"],[0.7777777777777778,\"#fb9f3a\"],[0.8888888888888888,\"#fdca26\"],[1.0,\"#f0f921\"]]},\"colorway\":[\"#636efa\",\"#EF553B\",\"#00cc96\",\"#ab63fa\",\"#FFA15A\",\"#19d3f3\",\"#FF6692\",\"#B6E880\",\"#FF97FF\",\"#FECB52\"],\"font\":{\"color\":\"#2a3f5f\"},\"geo\":{\"bgcolor\":\"white\",\"lakecolor\":\"white\",\"landcolor\":\"#E5ECF6\",\"showlakes\":true,\"showland\":true,\"subunitcolor\":\"white\"},\"hoverlabel\":{\"align\":\"left\"},\"hovermode\":\"closest\",\"mapbox\":{\"style\":\"light\"},\"paper_bgcolor\":\"white\",\"plot_bgcolor\":\"#E5ECF6\",\"polar\":{\"angularaxis\":{\"gridcolor\":\"white\",\"linecolor\":\"white\",\"ticks\":\"\"},\"bgcolor\":\"#E5ECF6\",\"radialaxis\":{\"gridcolor\":\"white\",\"linecolor\":\"white\",\"ticks\":\"\"}},\"scene\":{\"xaxis\":{\"backgroundcolor\":\"#E5ECF6\",\"gridcolor\":\"white\",\"gridwidth\":2,\"linecolor\":\"white\",\"showbackground\":true,\"ticks\":\"\",\"zerolinecolor\":\"white\"},\"yaxis\":{\"backgroundcolor\":\"#E5ECF6\",\"gridcolor\":\"white\",\"gridwidth\":2,\"linecolor\":\"white\",\"showbackground\":true,\"ticks\":\"\",\"zerolinecolor\":\"white\"},\"zaxis\":{\"backgroundcolor\":\"#E5ECF6\",\"gridcolor\":\"white\",\"gridwidth\":2,\"linecolor\":\"white\",\"showbackground\":true,\"ticks\":\"\",\"zerolinecolor\":\"white\"}},\"shapedefaults\":{\"line\":{\"color\":\"#2a3f5f\"}},\"ternary\":{\"aaxis\":{\"gridcolor\":\"white\",\"linecolor\":\"white\",\"ticks\":\"\"},\"baxis\":{\"gridcolor\":\"white\",\"linecolor\":\"white\",\"ticks\":\"\"},\"bgcolor\":\"#E5ECF6\",\"caxis\":{\"gridcolor\":\"white\",\"linecolor\":\"white\",\"ticks\":\"\"}},\"title\":{\"x\":0.05},\"xaxis\":{\"automargin\":true,\"gridcolor\":\"white\",\"linecolor\":\"white\",\"ticks\":\"\",\"title\":{\"standoff\":15},\"zerolinecolor\":\"white\",\"zerolinewidth\":2},\"yaxis\":{\"automargin\":true,\"gridcolor\":\"white\",\"linecolor\":\"white\",\"ticks\":\"\",\"title\":{\"standoff\":15},\"zerolinecolor\":\"white\",\"zerolinewidth\":2}}}},                        {\"responsive\": true}                    ).then(function(){\n",
       "                            \n",
       "var gd = document.getElementById('e1d0b621-c68f-4ab3-9154-fb7ec9458932');\n",
       "var x = new MutationObserver(function (mutations, observer) {{\n",
       "        var display = window.getComputedStyle(gd).display;\n",
       "        if (!display || display === 'none') {{\n",
       "            console.log([gd, 'removed!']);\n",
       "            Plotly.purge(gd);\n",
       "            observer.disconnect();\n",
       "        }}\n",
       "}});\n",
       "\n",
       "// Listen for the removal of the full notebook cells\n",
       "var notebookContainer = gd.closest('#notebook-container');\n",
       "if (notebookContainer) {{\n",
       "    x.observe(notebookContainer, {childList: true});\n",
       "}}\n",
       "\n",
       "// Listen for the clearing of the current output cell\n",
       "var outputEl = gd.closest('.output');\n",
       "if (outputEl) {{\n",
       "    x.observe(outputEl, {childList: true});\n",
       "}}\n",
       "\n",
       "                        })                };                });            </script>        </div>"
      ]
     },
     "metadata": {},
     "output_type": "display_data"
    }
   ],
   "source": [
    "# blues, brwnyl, bupu, purd, purpor, sunset, dense\n",
    "mapfig = px.choropleth(data_frame = state_value_counts_df, \n",
    "                       locations='state', \n",
    "                       color='targeted customers', \n",
    "                       locationmode=\"USA-states\", \n",
    "                       scope=\"usa\", \n",
    "                       color_continuous_scale='dense')  \n",
    "mapfig.show()"
   ]
  },
  {
   "cell_type": "code",
   "execution_count": 43,
   "id": "204efa13",
   "metadata": {},
   "outputs": [
    {
     "data": {
      "text/plain": [
       "Text(0, 0.5, '')"
      ]
     },
     "execution_count": 43,
     "metadata": {},
     "output_type": "execute_result"
    },
    {
     "data": {
      "image/png": "[encoded data removed]",
      "text/plain": [
       "<Figure size 864x720 with 1 Axes>"
      ]
     },
     "metadata": {},
     "output_type": "display_data"
    }
   ],
   "source": [
    "fraudulent_transactions.value_counts('category').plot(kind = 'pie', autopct='%.2f', figsize=(12,10))\n",
    "plt.ylabel(\"\")"
   ]
  },
  {
   "cell_type": "code",
   "execution_count": 44,
   "id": "90f8cf35",
   "metadata": {},
   "outputs": [
    {
     "data": {
      "text/plain": [
       "Text(0, 0.5, 'Amount')"
      ]
     },
     "execution_count": 44,
     "metadata": {},
     "output_type": "execute_result"
    },
    {
     "data": {
      "image/png": "[encoded data removed]",
      "text/plain": [
       "<Figure size 1440x720 with 1 Axes>"
      ]
     },
     "metadata": {
      "needs_background": "light"
     },
     "output_type": "display_data"
    }
   ],
   "source": [
    "fraudulent_transactions.plot(x='trans_date_trans_time', y='amt', kind='scatter', figsize=(20, 10))\n",
    "plt.title(\"Transaction Amounts Over Time\", fontsize=26)\n",
    "plt.xlabel(\"Transaction Date and Time\", fontsize=22)\n",
    "plt.ylabel(\"Amount\", fontsize=22)"
   ]
  },
  {
   "cell_type": "markdown",
   "id": "787d455a",
   "metadata": {},
   "source": [
    "# Balancing the Data"
   ]
  },
  {
   "cell_type": "code",
   "execution_count": 45,
   "id": "2bc817a9",
   "metadata": {},
   "outputs": [],
   "source": [
    "nonfraudulent_transactions = transactions[transactions['is_fraud']==0]\n",
    "fraudulent_transactions_count = len(transactions[transactions['is_fraud']==1])\n",
    "# nonfraudulent_transactions\n",
    "# fraudulent_transactions_count"
   ]
  },
  {
   "cell_type": "code",
   "execution_count": 46,
   "id": "6c602e80",
   "metadata": {},
   "outputs": [
    {
     "data": {
      "text/html": [
       "<div>\n",
       "<style scoped>\n",
       "    .dataframe tbody tr th:only-of-type {\n",
       "        vertical-align: middle;\n",
       "    }\n",
       "\n",
       "    .dataframe tbody tr th {\n",
       "        vertical-align: top;\n",
       "    }\n",
       "\n",
       "    .dataframe thead th {\n",
       "        text-align: right;\n",
       "    }\n",
       "</style>\n",
       "<table border=\"1\" class=\"dataframe\">\n",
       "  <thead>\n",
       "    <tr style=\"text-align: right;\">\n",
       "      <th></th>\n",
       "      <th>Unnamed: 0</th>\n",
       "      <th>trans_date_trans_time</th>\n",
       "      <th>cc_num</th>\n",
       "      <th>merchant</th>\n",
       "      <th>category</th>\n",
       "      <th>amt</th>\n",
       "      <th>first</th>\n",
       "      <th>last</th>\n",
       "      <th>gender</th>\n",
       "      <th>street</th>\n",
       "      <th>...</th>\n",
       "      <th>lat</th>\n",
       "      <th>long</th>\n",
       "      <th>city_pop</th>\n",
       "      <th>job</th>\n",
       "      <th>dob</th>\n",
       "      <th>trans_num</th>\n",
       "      <th>unix_time</th>\n",
       "      <th>merch_lat</th>\n",
       "      <th>merch_long</th>\n",
       "      <th>is_fraud</th>\n",
       "    </tr>\n",
       "  </thead>\n",
       "  <tbody>\n",
       "    <tr>\n",
       "      <th>152544</th>\n",
       "      <td>152544</td>\n",
       "      <td>2020-08-13 15:24:26</td>\n",
       "      <td>4634955908138648</td>\n",
       "      <td>fraud_Langworth, Boehm and Gulgowski</td>\n",
       "      <td>shopping_net</td>\n",
       "      <td>3.26</td>\n",
       "      <td>Mackenzie</td>\n",
       "      <td>Smith</td>\n",
       "      <td>F</td>\n",
       "      <td>7178 Willis Drive</td>\n",
       "      <td>...</td>\n",
       "      <td>41.6414</td>\n",
       "      <td>-96.5232</td>\n",
       "      <td>1745</td>\n",
       "      <td>Engineer, automotive</td>\n",
       "      <td>1973-12-26</td>\n",
       "      <td>ac47d2f328371e99b70a08e622cb8720</td>\n",
       "      <td>1376407466</td>\n",
       "      <td>41.788936</td>\n",
       "      <td>-96.091658</td>\n",
       "      <td>0</td>\n",
       "    </tr>\n",
       "    <tr>\n",
       "      <th>478303</th>\n",
       "      <td>478303</td>\n",
       "      <td>2020-12-14 19:10:07</td>\n",
       "      <td>4681601008538160</td>\n",
       "      <td>fraud_Pfeffer and Sons</td>\n",
       "      <td>shopping_pos</td>\n",
       "      <td>29.83</td>\n",
       "      <td>Tammy</td>\n",
       "      <td>Davis</td>\n",
       "      <td>F</td>\n",
       "      <td>77663 Colleen Freeway</td>\n",
       "      <td>...</td>\n",
       "      <td>39.9148</td>\n",
       "      <td>-80.7310</td>\n",
       "      <td>16183</td>\n",
       "      <td>Physiotherapist</td>\n",
       "      <td>1977-08-12</td>\n",
       "      <td>5b1e49eca3cb5b1d56f29996498e8481</td>\n",
       "      <td>1387048207</td>\n",
       "      <td>40.277959</td>\n",
       "      <td>-79.849311</td>\n",
       "      <td>0</td>\n",
       "    </tr>\n",
       "    <tr>\n",
       "      <th>199878</th>\n",
       "      <td>199878</td>\n",
       "      <td>2020-08-30 19:57:07</td>\n",
       "      <td>5501083170975659</td>\n",
       "      <td>fraud_Kunze, Larkin and Mayert</td>\n",
       "      <td>travel</td>\n",
       "      <td>3.25</td>\n",
       "      <td>Wayne</td>\n",
       "      <td>Payne</td>\n",
       "      <td>M</td>\n",
       "      <td>587 Bradley Inlet Suite 281</td>\n",
       "      <td>...</td>\n",
       "      <td>41.1464</td>\n",
       "      <td>-81.5107</td>\n",
       "      <td>47772</td>\n",
       "      <td>Equities trader</td>\n",
       "      <td>1966-01-04</td>\n",
       "      <td>8c7abde9540550ca80dc60f8ace36ca2</td>\n",
       "      <td>1377892627</td>\n",
       "      <td>40.195414</td>\n",
       "      <td>-81.248342</td>\n",
       "      <td>0</td>\n",
       "    </tr>\n",
       "    <tr>\n",
       "      <th>458599</th>\n",
       "      <td>458599</td>\n",
       "      <td>2020-12-10 12:18:59</td>\n",
       "      <td>676369110710</td>\n",
       "      <td>fraud_Ratke and Sons</td>\n",
       "      <td>health_fitness</td>\n",
       "      <td>94.35</td>\n",
       "      <td>David</td>\n",
       "      <td>Wolfe</td>\n",
       "      <td>M</td>\n",
       "      <td>81261 Garcia Underpass Suite 741</td>\n",
       "      <td>...</td>\n",
       "      <td>42.4969</td>\n",
       "      <td>-83.2911</td>\n",
       "      <td>75830</td>\n",
       "      <td>Engineer, automotive</td>\n",
       "      <td>1974-12-28</td>\n",
       "      <td>618c0fb32215bbae1aef0ab332c2defd</td>\n",
       "      <td>1386677939</td>\n",
       "      <td>42.378830</td>\n",
       "      <td>-83.406294</td>\n",
       "      <td>0</td>\n",
       "    </tr>\n",
       "    <tr>\n",
       "      <th>521864</th>\n",
       "      <td>521864</td>\n",
       "      <td>2020-12-24 09:58:20</td>\n",
       "      <td>4512828414983801773</td>\n",
       "      <td>fraud_Lockman, West and Runte</td>\n",
       "      <td>grocery_pos</td>\n",
       "      <td>126.10</td>\n",
       "      <td>Monica</td>\n",
       "      <td>Cohen</td>\n",
       "      <td>F</td>\n",
       "      <td>864 Reynolds Plains</td>\n",
       "      <td>...</td>\n",
       "      <td>39.8936</td>\n",
       "      <td>-79.7856</td>\n",
       "      <td>328</td>\n",
       "      <td>Tree surgeon</td>\n",
       "      <td>1983-07-25</td>\n",
       "      <td>6b9132bc5af40d2872a3ad9f33369e48</td>\n",
       "      <td>1387879100</td>\n",
       "      <td>39.709514</td>\n",
       "      <td>-80.281836</td>\n",
       "      <td>0</td>\n",
       "    </tr>\n",
       "    <tr>\n",
       "      <th>...</th>\n",
       "      <td>...</td>\n",
       "      <td>...</td>\n",
       "      <td>...</td>\n",
       "      <td>...</td>\n",
       "      <td>...</td>\n",
       "      <td>...</td>\n",
       "      <td>...</td>\n",
       "      <td>...</td>\n",
       "      <td>...</td>\n",
       "      <td>...</td>\n",
       "      <td>...</td>\n",
       "      <td>...</td>\n",
       "      <td>...</td>\n",
       "      <td>...</td>\n",
       "      <td>...</td>\n",
       "      <td>...</td>\n",
       "      <td>...</td>\n",
       "      <td>...</td>\n",
       "      <td>...</td>\n",
       "      <td>...</td>\n",
       "      <td>...</td>\n",
       "    </tr>\n",
       "    <tr>\n",
       "      <th>140798</th>\n",
       "      <td>140798</td>\n",
       "      <td>2020-08-09 18:50:05</td>\n",
       "      <td>4586260469584</td>\n",
       "      <td>fraud_Yost-Rogahn</td>\n",
       "      <td>personal_care</td>\n",
       "      <td>93.06</td>\n",
       "      <td>Melody</td>\n",
       "      <td>Thompson</td>\n",
       "      <td>F</td>\n",
       "      <td>0362 Anderson Wall</td>\n",
       "      <td>...</td>\n",
       "      <td>40.1362</td>\n",
       "      <td>-95.2138</td>\n",
       "      <td>1631</td>\n",
       "      <td>Architect</td>\n",
       "      <td>1953-01-20</td>\n",
       "      <td>6ad83bb91e353605a160b95a483a1629</td>\n",
       "      <td>1376074205</td>\n",
       "      <td>40.439548</td>\n",
       "      <td>-94.653490</td>\n",
       "      <td>0</td>\n",
       "    </tr>\n",
       "    <tr>\n",
       "      <th>498544</th>\n",
       "      <td>498544</td>\n",
       "      <td>2020-12-19 16:54:08</td>\n",
       "      <td>374930071163758</td>\n",
       "      <td>fraud_Fisher Inc</td>\n",
       "      <td>shopping_net</td>\n",
       "      <td>8.46</td>\n",
       "      <td>Daniel</td>\n",
       "      <td>Escobar</td>\n",
       "      <td>M</td>\n",
       "      <td>61390 Hayes Port</td>\n",
       "      <td>...</td>\n",
       "      <td>42.2203</td>\n",
       "      <td>-83.3583</td>\n",
       "      <td>31515</td>\n",
       "      <td>Police officer</td>\n",
       "      <td>1971-11-05</td>\n",
       "      <td>11a2ea731143351730b6c63f39237de5</td>\n",
       "      <td>1387472048</td>\n",
       "      <td>41.799669</td>\n",
       "      <td>-82.821912</td>\n",
       "      <td>0</td>\n",
       "    </tr>\n",
       "    <tr>\n",
       "      <th>384685</th>\n",
       "      <td>384685</td>\n",
       "      <td>2020-11-18 03:16:52</td>\n",
       "      <td>6573561108825071</td>\n",
       "      <td>fraud_Schulist Ltd</td>\n",
       "      <td>food_dining</td>\n",
       "      <td>54.88</td>\n",
       "      <td>Kristina</td>\n",
       "      <td>Lewis</td>\n",
       "      <td>F</td>\n",
       "      <td>5449 Brandi Heights Apt. 111</td>\n",
       "      <td>...</td>\n",
       "      <td>36.2395</td>\n",
       "      <td>-95.9596</td>\n",
       "      <td>413574</td>\n",
       "      <td>Bookseller</td>\n",
       "      <td>1968-06-18</td>\n",
       "      <td>48382861f680c09892e7fd6cfac80775</td>\n",
       "      <td>1384744612</td>\n",
       "      <td>36.222899</td>\n",
       "      <td>-96.420284</td>\n",
       "      <td>0</td>\n",
       "    </tr>\n",
       "    <tr>\n",
       "      <th>423739</th>\n",
       "      <td>423739</td>\n",
       "      <td>2020-12-02 13:13:24</td>\n",
       "      <td>180036456789979</td>\n",
       "      <td>fraud_Romaguera, Wehner and Tromp</td>\n",
       "      <td>kids_pets</td>\n",
       "      <td>40.06</td>\n",
       "      <td>Mackenzie</td>\n",
       "      <td>Salazar</td>\n",
       "      <td>F</td>\n",
       "      <td>982 Melissa Lock</td>\n",
       "      <td>...</td>\n",
       "      <td>42.9207</td>\n",
       "      <td>-91.0685</td>\n",
       "      <td>878</td>\n",
       "      <td>Risk analyst</td>\n",
       "      <td>1974-11-20</td>\n",
       "      <td>3f07d42e3d32fa39dd45b10ebc981963</td>\n",
       "      <td>1385990004</td>\n",
       "      <td>43.116340</td>\n",
       "      <td>-91.967805</td>\n",
       "      <td>0</td>\n",
       "    </tr>\n",
       "    <tr>\n",
       "      <th>271424</th>\n",
       "      <td>271424</td>\n",
       "      <td>2020-09-29 15:41:18</td>\n",
       "      <td>4220345354880</td>\n",
       "      <td>fraud_Denesik, Powlowski and Pouros</td>\n",
       "      <td>home</td>\n",
       "      <td>28.01</td>\n",
       "      <td>Patrick</td>\n",
       "      <td>Torres</td>\n",
       "      <td>M</td>\n",
       "      <td>27386 Snyder Station</td>\n",
       "      <td>...</td>\n",
       "      <td>42.8223</td>\n",
       "      <td>-83.2829</td>\n",
       "      <td>24840</td>\n",
       "      <td>Agricultural consultant</td>\n",
       "      <td>1960-01-20</td>\n",
       "      <td>ffe297e21834d687c5db13f1461f1dde</td>\n",
       "      <td>1380469278</td>\n",
       "      <td>43.400692</td>\n",
       "      <td>-84.126141</td>\n",
       "      <td>0</td>\n",
       "    </tr>\n",
       "  </tbody>\n",
       "</table>\n",
       "<p>2145 rows × 23 columns</p>\n",
       "</div>"
      ],
      "text/plain": [
       "        Unnamed: 0 trans_date_trans_time               cc_num  \\\n",
       "152544      152544   2020-08-13 15:24:26     4634955908138648   \n",
       "478303      478303   2020-12-14 19:10:07     4681601008538160   \n",
       "199878      199878   2020-08-30 19:57:07     5501083170975659   \n",
       "458599      458599   2020-12-10 12:18:59         676369110710   \n",
       "521864      521864   2020-12-24 09:58:20  4512828414983801773   \n",
       "...            ...                   ...                  ...   \n",
       "140798      140798   2020-08-09 18:50:05        4586260469584   \n",
       "498544      498544   2020-12-19 16:54:08      374930071163758   \n",
       "384685      384685   2020-11-18 03:16:52     6573561108825071   \n",
       "423739      423739   2020-12-02 13:13:24      180036456789979   \n",
       "271424      271424   2020-09-29 15:41:18        4220345354880   \n",
       "\n",
       "                                    merchant        category     amt  \\\n",
       "152544  fraud_Langworth, Boehm and Gulgowski    shopping_net    3.26   \n",
       "478303                fraud_Pfeffer and Sons    shopping_pos   29.83   \n",
       "199878        fraud_Kunze, Larkin and Mayert          travel    3.25   \n",
       "458599                  fraud_Ratke and Sons  health_fitness   94.35   \n",
       "521864         fraud_Lockman, West and Runte     grocery_pos  126.10   \n",
       "...                                      ...             ...     ...   \n",
       "140798                     fraud_Yost-Rogahn   personal_care   93.06   \n",
       "498544                      fraud_Fisher Inc    shopping_net    8.46   \n",
       "384685                    fraud_Schulist Ltd     food_dining   54.88   \n",
       "423739     fraud_Romaguera, Wehner and Tromp       kids_pets   40.06   \n",
       "271424   fraud_Denesik, Powlowski and Pouros            home   28.01   \n",
       "\n",
       "            first      last gender                            street  ...  \\\n",
       "152544  Mackenzie     Smith      F                 7178 Willis Drive  ...   \n",
       "478303      Tammy     Davis      F             77663 Colleen Freeway  ...   \n",
       "199878      Wayne     Payne      M       587 Bradley Inlet Suite 281  ...   \n",
       "458599      David     Wolfe      M  81261 Garcia Underpass Suite 741  ...   \n",
       "521864     Monica     Cohen      F               864 Reynolds Plains  ...   \n",
       "...           ...       ...    ...                               ...  ...   \n",
       "140798     Melody  Thompson      F                0362 Anderson Wall  ...   \n",
       "498544     Daniel   Escobar      M                  61390 Hayes Port  ...   \n",
       "384685   Kristina     Lewis      F      5449 Brandi Heights Apt. 111  ...   \n",
       "423739  Mackenzie   Salazar      F                  982 Melissa Lock  ...   \n",
       "271424    Patrick    Torres      M              27386 Snyder Station  ...   \n",
       "\n",
       "            lat     long  city_pop                      job         dob  \\\n",
       "152544  41.6414 -96.5232      1745     Engineer, automotive  1973-12-26   \n",
       "478303  39.9148 -80.7310     16183          Physiotherapist  1977-08-12   \n",
       "199878  41.1464 -81.5107     47772          Equities trader  1966-01-04   \n",
       "458599  42.4969 -83.2911     75830     Engineer, automotive  1974-12-28   \n",
       "521864  39.8936 -79.7856       328             Tree surgeon  1983-07-25   \n",
       "...         ...      ...       ...                      ...         ...   \n",
       "140798  40.1362 -95.2138      1631                Architect  1953-01-20   \n",
       "498544  42.2203 -83.3583     31515           Police officer  1971-11-05   \n",
       "384685  36.2395 -95.9596    413574               Bookseller  1968-06-18   \n",
       "423739  42.9207 -91.0685       878             Risk analyst  1974-11-20   \n",
       "271424  42.8223 -83.2829     24840  Agricultural consultant  1960-01-20   \n",
       "\n",
       "                               trans_num   unix_time  merch_lat merch_long  \\\n",
       "152544  ac47d2f328371e99b70a08e622cb8720  1376407466  41.788936 -96.091658   \n",
       "478303  5b1e49eca3cb5b1d56f29996498e8481  1387048207  40.277959 -79.849311   \n",
       "199878  8c7abde9540550ca80dc60f8ace36ca2  1377892627  40.195414 -81.248342   \n",
       "458599  618c0fb32215bbae1aef0ab332c2defd  1386677939  42.378830 -83.406294   \n",
       "521864  6b9132bc5af40d2872a3ad9f33369e48  1387879100  39.709514 -80.281836   \n",
       "...                                  ...         ...        ...        ...   \n",
       "140798  6ad83bb91e353605a160b95a483a1629  1376074205  40.439548 -94.653490   \n",
       "498544  11a2ea731143351730b6c63f39237de5  1387472048  41.799669 -82.821912   \n",
       "384685  48382861f680c09892e7fd6cfac80775  1384744612  36.222899 -96.420284   \n",
       "423739  3f07d42e3d32fa39dd45b10ebc981963  1385990004  43.116340 -91.967805   \n",
       "271424  ffe297e21834d687c5db13f1461f1dde  1380469278  43.400692 -84.126141   \n",
       "\n",
       "        is_fraud  \n",
       "152544         0  \n",
       "478303         0  \n",
       "199878         0  \n",
       "458599         0  \n",
       "521864         0  \n",
       "...          ...  \n",
       "140798         0  \n",
       "498544         0  \n",
       "384685         0  \n",
       "423739         0  \n",
       "271424         0  \n",
       "\n",
       "[2145 rows x 23 columns]"
      ]
     },
     "execution_count": 46,
     "metadata": {},
     "output_type": "execute_result"
    }
   ],
   "source": [
    "nonfraudulent_transactions_undersample = nonfraudulent_transactions.sample(n=fraudulent_transactions_count, \n",
    "                                                                           replace=False, \n",
    "                                                                           random_state=5)\n",
    "nonfraudulent_transactions_undersample"
   ]
  },
  {
   "cell_type": "code",
   "execution_count": 47,
   "id": "031bc804",
   "metadata": {},
   "outputs": [
    {
     "data": {
      "text/html": [
       "<div>\n",
       "<style scoped>\n",
       "    .dataframe tbody tr th:only-of-type {\n",
       "        vertical-align: middle;\n",
       "    }\n",
       "\n",
       "    .dataframe tbody tr th {\n",
       "        vertical-align: top;\n",
       "    }\n",
       "\n",
       "    .dataframe thead th {\n",
       "        text-align: right;\n",
       "    }\n",
       "</style>\n",
       "<table border=\"1\" class=\"dataframe\">\n",
       "  <thead>\n",
       "    <tr style=\"text-align: right;\">\n",
       "      <th></th>\n",
       "      <th>Unnamed: 0</th>\n",
       "      <th>trans_date_trans_time</th>\n",
       "      <th>cc_num</th>\n",
       "      <th>merchant</th>\n",
       "      <th>category</th>\n",
       "      <th>amt</th>\n",
       "      <th>first</th>\n",
       "      <th>last</th>\n",
       "      <th>gender</th>\n",
       "      <th>street</th>\n",
       "      <th>...</th>\n",
       "      <th>lat</th>\n",
       "      <th>long</th>\n",
       "      <th>city_pop</th>\n",
       "      <th>job</th>\n",
       "      <th>dob</th>\n",
       "      <th>trans_num</th>\n",
       "      <th>unix_time</th>\n",
       "      <th>merch_lat</th>\n",
       "      <th>merch_long</th>\n",
       "      <th>is_fraud</th>\n",
       "    </tr>\n",
       "  </thead>\n",
       "  <tbody>\n",
       "    <tr>\n",
       "      <th>1685</th>\n",
       "      <td>1685</td>\n",
       "      <td>2020-06-21 22:06:39</td>\n",
       "      <td>3560725013359375</td>\n",
       "      <td>fraud_Hamill-D'Amore</td>\n",
       "      <td>health_fitness</td>\n",
       "      <td>24.84</td>\n",
       "      <td>Brooke</td>\n",
       "      <td>Smith</td>\n",
       "      <td>F</td>\n",
       "      <td>63542 Luna Brook Apt. 012</td>\n",
       "      <td>...</td>\n",
       "      <td>31.8599</td>\n",
       "      <td>-102.7413</td>\n",
       "      <td>23</td>\n",
       "      <td>Cytogeneticist</td>\n",
       "      <td>1969-09-15</td>\n",
       "      <td>16bf2e46c54369a8eab2214649506425</td>\n",
       "      <td>1371852399</td>\n",
       "      <td>32.575873</td>\n",
       "      <td>-102.604290</td>\n",
       "      <td>1</td>\n",
       "    </tr>\n",
       "    <tr>\n",
       "      <th>1767</th>\n",
       "      <td>1767</td>\n",
       "      <td>2020-06-21 22:32:22</td>\n",
       "      <td>6564459919350820</td>\n",
       "      <td>fraud_Rodriguez, Yost and Jenkins</td>\n",
       "      <td>misc_net</td>\n",
       "      <td>780.52</td>\n",
       "      <td>Douglas</td>\n",
       "      <td>Willis</td>\n",
       "      <td>M</td>\n",
       "      <td>619 Jeremy Garden Apt. 681</td>\n",
       "      <td>...</td>\n",
       "      <td>42.5545</td>\n",
       "      <td>-90.3508</td>\n",
       "      <td>1306</td>\n",
       "      <td>Public relations officer</td>\n",
       "      <td>1958-09-10</td>\n",
       "      <td>ab4b379d2c0c9c667d46508d4e126d72</td>\n",
       "      <td>1371853942</td>\n",
       "      <td>42.461127</td>\n",
       "      <td>-91.147148</td>\n",
       "      <td>1</td>\n",
       "    </tr>\n",
       "    <tr>\n",
       "      <th>1781</th>\n",
       "      <td>1781</td>\n",
       "      <td>2020-06-21 22:37:27</td>\n",
       "      <td>6564459919350820</td>\n",
       "      <td>fraud_Nienow PLC</td>\n",
       "      <td>entertainment</td>\n",
       "      <td>620.33</td>\n",
       "      <td>Douglas</td>\n",
       "      <td>Willis</td>\n",
       "      <td>M</td>\n",
       "      <td>619 Jeremy Garden Apt. 681</td>\n",
       "      <td>...</td>\n",
       "      <td>42.5545</td>\n",
       "      <td>-90.3508</td>\n",
       "      <td>1306</td>\n",
       "      <td>Public relations officer</td>\n",
       "      <td>1958-09-10</td>\n",
       "      <td>47a9987ae81d99f7832a54b29a77bf4b</td>\n",
       "      <td>1371854247</td>\n",
       "      <td>42.771834</td>\n",
       "      <td>-90.158365</td>\n",
       "      <td>1</td>\n",
       "    </tr>\n",
       "    <tr>\n",
       "      <th>1784</th>\n",
       "      <td>1784</td>\n",
       "      <td>2020-06-21 22:38:55</td>\n",
       "      <td>4005676619255478</td>\n",
       "      <td>fraud_Heathcote, Yost and Kertzmann</td>\n",
       "      <td>shopping_net</td>\n",
       "      <td>1077.69</td>\n",
       "      <td>William</td>\n",
       "      <td>Perry</td>\n",
       "      <td>M</td>\n",
       "      <td>458 Phillips Island Apt. 768</td>\n",
       "      <td>...</td>\n",
       "      <td>30.4590</td>\n",
       "      <td>-90.9027</td>\n",
       "      <td>71335</td>\n",
       "      <td>Herbalist</td>\n",
       "      <td>1994-05-31</td>\n",
       "      <td>fe956c7e4a253c437c18918bf96f7b62</td>\n",
       "      <td>1371854335</td>\n",
       "      <td>31.204974</td>\n",
       "      <td>-90.261595</td>\n",
       "      <td>1</td>\n",
       "    </tr>\n",
       "    <tr>\n",
       "      <th>1857</th>\n",
       "      <td>1857</td>\n",
       "      <td>2020-06-21 23:02:16</td>\n",
       "      <td>3560725013359375</td>\n",
       "      <td>fraud_Hermann and Sons</td>\n",
       "      <td>shopping_pos</td>\n",
       "      <td>842.65</td>\n",
       "      <td>Brooke</td>\n",
       "      <td>Smith</td>\n",
       "      <td>F</td>\n",
       "      <td>63542 Luna Brook Apt. 012</td>\n",
       "      <td>...</td>\n",
       "      <td>31.8599</td>\n",
       "      <td>-102.7413</td>\n",
       "      <td>23</td>\n",
       "      <td>Cytogeneticist</td>\n",
       "      <td>1969-09-15</td>\n",
       "      <td>f6838c01f5d2262006e6b71d33ba7c6d</td>\n",
       "      <td>1371855736</td>\n",
       "      <td>31.315782</td>\n",
       "      <td>-102.736390</td>\n",
       "      <td>1</td>\n",
       "    </tr>\n",
       "    <tr>\n",
       "      <th>...</th>\n",
       "      <td>...</td>\n",
       "      <td>...</td>\n",
       "      <td>...</td>\n",
       "      <td>...</td>\n",
       "      <td>...</td>\n",
       "      <td>...</td>\n",
       "      <td>...</td>\n",
       "      <td>...</td>\n",
       "      <td>...</td>\n",
       "      <td>...</td>\n",
       "      <td>...</td>\n",
       "      <td>...</td>\n",
       "      <td>...</td>\n",
       "      <td>...</td>\n",
       "      <td>...</td>\n",
       "      <td>...</td>\n",
       "      <td>...</td>\n",
       "      <td>...</td>\n",
       "      <td>...</td>\n",
       "      <td>...</td>\n",
       "      <td>...</td>\n",
       "    </tr>\n",
       "    <tr>\n",
       "      <th>140798</th>\n",
       "      <td>140798</td>\n",
       "      <td>2020-08-09 18:50:05</td>\n",
       "      <td>4586260469584</td>\n",
       "      <td>fraud_Yost-Rogahn</td>\n",
       "      <td>personal_care</td>\n",
       "      <td>93.06</td>\n",
       "      <td>Melody</td>\n",
       "      <td>Thompson</td>\n",
       "      <td>F</td>\n",
       "      <td>0362 Anderson Wall</td>\n",
       "      <td>...</td>\n",
       "      <td>40.1362</td>\n",
       "      <td>-95.2138</td>\n",
       "      <td>1631</td>\n",
       "      <td>Architect</td>\n",
       "      <td>1953-01-20</td>\n",
       "      <td>6ad83bb91e353605a160b95a483a1629</td>\n",
       "      <td>1376074205</td>\n",
       "      <td>40.439548</td>\n",
       "      <td>-94.653490</td>\n",
       "      <td>0</td>\n",
       "    </tr>\n",
       "    <tr>\n",
       "      <th>498544</th>\n",
       "      <td>498544</td>\n",
       "      <td>2020-12-19 16:54:08</td>\n",
       "      <td>374930071163758</td>\n",
       "      <td>fraud_Fisher Inc</td>\n",
       "      <td>shopping_net</td>\n",
       "      <td>8.46</td>\n",
       "      <td>Daniel</td>\n",
       "      <td>Escobar</td>\n",
       "      <td>M</td>\n",
       "      <td>61390 Hayes Port</td>\n",
       "      <td>...</td>\n",
       "      <td>42.2203</td>\n",
       "      <td>-83.3583</td>\n",
       "      <td>31515</td>\n",
       "      <td>Police officer</td>\n",
       "      <td>1971-11-05</td>\n",
       "      <td>11a2ea731143351730b6c63f39237de5</td>\n",
       "      <td>1387472048</td>\n",
       "      <td>41.799669</td>\n",
       "      <td>-82.821912</td>\n",
       "      <td>0</td>\n",
       "    </tr>\n",
       "    <tr>\n",
       "      <th>384685</th>\n",
       "      <td>384685</td>\n",
       "      <td>2020-11-18 03:16:52</td>\n",
       "      <td>6573561108825071</td>\n",
       "      <td>fraud_Schulist Ltd</td>\n",
       "      <td>food_dining</td>\n",
       "      <td>54.88</td>\n",
       "      <td>Kristina</td>\n",
       "      <td>Lewis</td>\n",
       "      <td>F</td>\n",
       "      <td>5449 Brandi Heights Apt. 111</td>\n",
       "      <td>...</td>\n",
       "      <td>36.2395</td>\n",
       "      <td>-95.9596</td>\n",
       "      <td>413574</td>\n",
       "      <td>Bookseller</td>\n",
       "      <td>1968-06-18</td>\n",
       "      <td>48382861f680c09892e7fd6cfac80775</td>\n",
       "      <td>1384744612</td>\n",
       "      <td>36.222899</td>\n",
       "      <td>-96.420284</td>\n",
       "      <td>0</td>\n",
       "    </tr>\n",
       "    <tr>\n",
       "      <th>423739</th>\n",
       "      <td>423739</td>\n",
       "      <td>2020-12-02 13:13:24</td>\n",
       "      <td>180036456789979</td>\n",
       "      <td>fraud_Romaguera, Wehner and Tromp</td>\n",
       "      <td>kids_pets</td>\n",
       "      <td>40.06</td>\n",
       "      <td>Mackenzie</td>\n",
       "      <td>Salazar</td>\n",
       "      <td>F</td>\n",
       "      <td>982 Melissa Lock</td>\n",
       "      <td>...</td>\n",
       "      <td>42.9207</td>\n",
       "      <td>-91.0685</td>\n",
       "      <td>878</td>\n",
       "      <td>Risk analyst</td>\n",
       "      <td>1974-11-20</td>\n",
       "      <td>3f07d42e3d32fa39dd45b10ebc981963</td>\n",
       "      <td>1385990004</td>\n",
       "      <td>43.116340</td>\n",
       "      <td>-91.967805</td>\n",
       "      <td>0</td>\n",
       "    </tr>\n",
       "    <tr>\n",
       "      <th>271424</th>\n",
       "      <td>271424</td>\n",
       "      <td>2020-09-29 15:41:18</td>\n",
       "      <td>4220345354880</td>\n",
       "      <td>fraud_Denesik, Powlowski and Pouros</td>\n",
       "      <td>home</td>\n",
       "      <td>28.01</td>\n",
       "      <td>Patrick</td>\n",
       "      <td>Torres</td>\n",
       "      <td>M</td>\n",
       "      <td>27386 Snyder Station</td>\n",
       "      <td>...</td>\n",
       "      <td>42.8223</td>\n",
       "      <td>-83.2829</td>\n",
       "      <td>24840</td>\n",
       "      <td>Agricultural consultant</td>\n",
       "      <td>1960-01-20</td>\n",
       "      <td>ffe297e21834d687c5db13f1461f1dde</td>\n",
       "      <td>1380469278</td>\n",
       "      <td>43.400692</td>\n",
       "      <td>-84.126141</td>\n",
       "      <td>0</td>\n",
       "    </tr>\n",
       "  </tbody>\n",
       "</table>\n",
       "<p>4290 rows × 23 columns</p>\n",
       "</div>"
      ],
      "text/plain": [
       "        Unnamed: 0 trans_date_trans_time            cc_num  \\\n",
       "1685          1685   2020-06-21 22:06:39  3560725013359375   \n",
       "1767          1767   2020-06-21 22:32:22  6564459919350820   \n",
       "1781          1781   2020-06-21 22:37:27  6564459919350820   \n",
       "1784          1784   2020-06-21 22:38:55  4005676619255478   \n",
       "1857          1857   2020-06-21 23:02:16  3560725013359375   \n",
       "...            ...                   ...               ...   \n",
       "140798      140798   2020-08-09 18:50:05     4586260469584   \n",
       "498544      498544   2020-12-19 16:54:08   374930071163758   \n",
       "384685      384685   2020-11-18 03:16:52  6573561108825071   \n",
       "423739      423739   2020-12-02 13:13:24   180036456789979   \n",
       "271424      271424   2020-09-29 15:41:18     4220345354880   \n",
       "\n",
       "                                   merchant        category      amt  \\\n",
       "1685                   fraud_Hamill-D'Amore  health_fitness    24.84   \n",
       "1767      fraud_Rodriguez, Yost and Jenkins        misc_net   780.52   \n",
       "1781                       fraud_Nienow PLC   entertainment   620.33   \n",
       "1784    fraud_Heathcote, Yost and Kertzmann    shopping_net  1077.69   \n",
       "1857                 fraud_Hermann and Sons    shopping_pos   842.65   \n",
       "...                                     ...             ...      ...   \n",
       "140798                    fraud_Yost-Rogahn   personal_care    93.06   \n",
       "498544                     fraud_Fisher Inc    shopping_net     8.46   \n",
       "384685                   fraud_Schulist Ltd     food_dining    54.88   \n",
       "423739    fraud_Romaguera, Wehner and Tromp       kids_pets    40.06   \n",
       "271424  fraud_Denesik, Powlowski and Pouros            home    28.01   \n",
       "\n",
       "            first      last gender                        street  ...  \\\n",
       "1685       Brooke     Smith      F     63542 Luna Brook Apt. 012  ...   \n",
       "1767      Douglas    Willis      M    619 Jeremy Garden Apt. 681  ...   \n",
       "1781      Douglas    Willis      M    619 Jeremy Garden Apt. 681  ...   \n",
       "1784      William     Perry      M  458 Phillips Island Apt. 768  ...   \n",
       "1857       Brooke     Smith      F     63542 Luna Brook Apt. 012  ...   \n",
       "...           ...       ...    ...                           ...  ...   \n",
       "140798     Melody  Thompson      F            0362 Anderson Wall  ...   \n",
       "498544     Daniel   Escobar      M              61390 Hayes Port  ...   \n",
       "384685   Kristina     Lewis      F  5449 Brandi Heights Apt. 111  ...   \n",
       "423739  Mackenzie   Salazar      F              982 Melissa Lock  ...   \n",
       "271424    Patrick    Torres      M          27386 Snyder Station  ...   \n",
       "\n",
       "            lat      long  city_pop                       job         dob  \\\n",
       "1685    31.8599 -102.7413        23            Cytogeneticist  1969-09-15   \n",
       "1767    42.5545  -90.3508      1306  Public relations officer  1958-09-10   \n",
       "1781    42.5545  -90.3508      1306  Public relations officer  1958-09-10   \n",
       "1784    30.4590  -90.9027     71335                 Herbalist  1994-05-31   \n",
       "1857    31.8599 -102.7413        23            Cytogeneticist  1969-09-15   \n",
       "...         ...       ...       ...                       ...         ...   \n",
       "140798  40.1362  -95.2138      1631                 Architect  1953-01-20   \n",
       "498544  42.2203  -83.3583     31515            Police officer  1971-11-05   \n",
       "384685  36.2395  -95.9596    413574                Bookseller  1968-06-18   \n",
       "423739  42.9207  -91.0685       878              Risk analyst  1974-11-20   \n",
       "271424  42.8223  -83.2829     24840   Agricultural consultant  1960-01-20   \n",
       "\n",
       "                               trans_num   unix_time  merch_lat  merch_long  \\\n",
       "1685    16bf2e46c54369a8eab2214649506425  1371852399  32.575873 -102.604290   \n",
       "1767    ab4b379d2c0c9c667d46508d4e126d72  1371853942  42.461127  -91.147148   \n",
       "1781    47a9987ae81d99f7832a54b29a77bf4b  1371854247  42.771834  -90.158365   \n",
       "1784    fe956c7e4a253c437c18918bf96f7b62  1371854335  31.204974  -90.261595   \n",
       "1857    f6838c01f5d2262006e6b71d33ba7c6d  1371855736  31.315782 -102.736390   \n",
       "...                                  ...         ...        ...         ...   \n",
       "140798  6ad83bb91e353605a160b95a483a1629  1376074205  40.439548  -94.653490   \n",
       "498544  11a2ea731143351730b6c63f39237de5  1387472048  41.799669  -82.821912   \n",
       "384685  48382861f680c09892e7fd6cfac80775  1384744612  36.222899  -96.420284   \n",
       "423739  3f07d42e3d32fa39dd45b10ebc981963  1385990004  43.116340  -91.967805   \n",
       "271424  ffe297e21834d687c5db13f1461f1dde  1380469278  43.400692  -84.126141   \n",
       "\n",
       "        is_fraud  \n",
       "1685           1  \n",
       "1767           1  \n",
       "1781           1  \n",
       "1784           1  \n",
       "1857           1  \n",
       "...          ...  \n",
       "140798         0  \n",
       "498544         0  \n",
       "384685         0  \n",
       "423739         0  \n",
       "271424         0  \n",
       "\n",
       "[4290 rows x 23 columns]"
      ]
     },
     "execution_count": 47,
     "metadata": {},
     "output_type": "execute_result"
    }
   ],
   "source": [
    "balanced_transactions = pd.concat([fraudulent_transactions, nonfraudulent_transactions_undersample])\n",
    "balanced_transactions"
   ]
  },
  {
   "cell_type": "code",
   "execution_count": 48,
   "id": "ebf06f7a",
   "metadata": {},
   "outputs": [
    {
     "data": {
      "text/plain": [
       "<AxesSubplot:xlabel='is_fraud'>"
      ]
     },
     "execution_count": 48,
     "metadata": {},
     "output_type": "execute_result"
    },
    {
     "data": {
      "image/png": "[encoded data removed]",
      "text/plain": [
       "<Figure size 432x288 with 1 Axes>"
      ]
     },
     "metadata": {
      "needs_background": "light"
     },
     "output_type": "display_data"
    }
   ],
   "source": [
    "balanced_transactions.value_counts('is_fraud').plot(kind='bar')"
   ]
  },
  {
   "cell_type": "code",
   "execution_count": 49,
   "id": "28d212c1",
   "metadata": {},
   "outputs": [
    {
     "data": {
      "text/plain": [
       "1    2145\n",
       "0    2145\n",
       "Name: is_fraud, dtype: int64"
      ]
     },
     "execution_count": 49,
     "metadata": {},
     "output_type": "execute_result"
    }
   ],
   "source": [
    "balanced_transactions.is_fraud.value_counts()"
   ]
  },
  {
   "cell_type": "markdown",
   "id": "764ca3ef",
   "metadata": {},
   "source": [
    "# Selecting Features"
   ]
  },
  {
   "cell_type": "code",
   "execution_count": 50,
   "id": "2131db62",
   "metadata": {},
   "outputs": [],
   "source": [
    "X = balanced_transactions.drop(['Unnamed: 0',\n",
    "                                'trans_date_trans_time', \n",
    "                                'first', 'last',\n",
    "                                'street',\n",
    "                                'dob',\n",
    "                                'trans_num',\n",
    "                                'city', 'city_pop',\n",
    "                                'unix_time',\n",
    "                                'is_fraud',\n",
    "                                'lat', 'long', \n",
    "                                'merch_lat', 'merch_long',\n",
    "                                'zip', 'cc_num', 'job'], axis=1)\n",
    "y = balanced_transactions['is_fraud']"
   ]
  },
  {
   "cell_type": "code",
   "execution_count": 51,
   "id": "e6d4ea64",
   "metadata": {},
   "outputs": [
    {
     "data": {
      "text/html": [
       "<div>\n",
       "<style scoped>\n",
       "    .dataframe tbody tr th:only-of-type {\n",
       "        vertical-align: middle;\n",
       "    }\n",
       "\n",
       "    .dataframe tbody tr th {\n",
       "        vertical-align: top;\n",
       "    }\n",
       "\n",
       "    .dataframe thead th {\n",
       "        text-align: right;\n",
       "    }\n",
       "</style>\n",
       "<table border=\"1\" class=\"dataframe\">\n",
       "  <thead>\n",
       "    <tr style=\"text-align: right;\">\n",
       "      <th></th>\n",
       "      <th>merchant</th>\n",
       "      <th>category</th>\n",
       "      <th>amt</th>\n",
       "      <th>gender</th>\n",
       "      <th>state</th>\n",
       "    </tr>\n",
       "  </thead>\n",
       "  <tbody>\n",
       "    <tr>\n",
       "      <th>1685</th>\n",
       "      <td>fraud_Hamill-D'Amore</td>\n",
       "      <td>health_fitness</td>\n",
       "      <td>24.84</td>\n",
       "      <td>F</td>\n",
       "      <td>TX</td>\n",
       "    </tr>\n",
       "    <tr>\n",
       "      <th>1767</th>\n",
       "      <td>fraud_Rodriguez, Yost and Jenkins</td>\n",
       "      <td>misc_net</td>\n",
       "      <td>780.52</td>\n",
       "      <td>M</td>\n",
       "      <td>WI</td>\n",
       "    </tr>\n",
       "    <tr>\n",
       "      <th>1781</th>\n",
       "      <td>fraud_Nienow PLC</td>\n",
       "      <td>entertainment</td>\n",
       "      <td>620.33</td>\n",
       "      <td>M</td>\n",
       "      <td>WI</td>\n",
       "    </tr>\n",
       "    <tr>\n",
       "      <th>1784</th>\n",
       "      <td>fraud_Heathcote, Yost and Kertzmann</td>\n",
       "      <td>shopping_net</td>\n",
       "      <td>1077.69</td>\n",
       "      <td>M</td>\n",
       "      <td>LA</td>\n",
       "    </tr>\n",
       "    <tr>\n",
       "      <th>1857</th>\n",
       "      <td>fraud_Hermann and Sons</td>\n",
       "      <td>shopping_pos</td>\n",
       "      <td>842.65</td>\n",
       "      <td>F</td>\n",
       "      <td>TX</td>\n",
       "    </tr>\n",
       "    <tr>\n",
       "      <th>...</th>\n",
       "      <td>...</td>\n",
       "      <td>...</td>\n",
       "      <td>...</td>\n",
       "      <td>...</td>\n",
       "      <td>...</td>\n",
       "    </tr>\n",
       "    <tr>\n",
       "      <th>140798</th>\n",
       "      <td>fraud_Yost-Rogahn</td>\n",
       "      <td>personal_care</td>\n",
       "      <td>93.06</td>\n",
       "      <td>F</td>\n",
       "      <td>MO</td>\n",
       "    </tr>\n",
       "    <tr>\n",
       "      <th>498544</th>\n",
       "      <td>fraud_Fisher Inc</td>\n",
       "      <td>shopping_net</td>\n",
       "      <td>8.46</td>\n",
       "      <td>M</td>\n",
       "      <td>MI</td>\n",
       "    </tr>\n",
       "    <tr>\n",
       "      <th>384685</th>\n",
       "      <td>fraud_Schulist Ltd</td>\n",
       "      <td>food_dining</td>\n",
       "      <td>54.88</td>\n",
       "      <td>F</td>\n",
       "      <td>OK</td>\n",
       "    </tr>\n",
       "    <tr>\n",
       "      <th>423739</th>\n",
       "      <td>fraud_Romaguera, Wehner and Tromp</td>\n",
       "      <td>kids_pets</td>\n",
       "      <td>40.06</td>\n",
       "      <td>F</td>\n",
       "      <td>WI</td>\n",
       "    </tr>\n",
       "    <tr>\n",
       "      <th>271424</th>\n",
       "      <td>fraud_Denesik, Powlowski and Pouros</td>\n",
       "      <td>home</td>\n",
       "      <td>28.01</td>\n",
       "      <td>M</td>\n",
       "      <td>MI</td>\n",
       "    </tr>\n",
       "  </tbody>\n",
       "</table>\n",
       "<p>4290 rows × 5 columns</p>\n",
       "</div>"
      ],
      "text/plain": [
       "                                   merchant        category      amt gender  \\\n",
       "1685                   fraud_Hamill-D'Amore  health_fitness    24.84      F   \n",
       "1767      fraud_Rodriguez, Yost and Jenkins        misc_net   780.52      M   \n",
       "1781                       fraud_Nienow PLC   entertainment   620.33      M   \n",
       "1784    fraud_Heathcote, Yost and Kertzmann    shopping_net  1077.69      M   \n",
       "1857                 fraud_Hermann and Sons    shopping_pos   842.65      F   \n",
       "...                                     ...             ...      ...    ...   \n",
       "140798                    fraud_Yost-Rogahn   personal_care    93.06      F   \n",
       "498544                     fraud_Fisher Inc    shopping_net     8.46      M   \n",
       "384685                   fraud_Schulist Ltd     food_dining    54.88      F   \n",
       "423739    fraud_Romaguera, Wehner and Tromp       kids_pets    40.06      F   \n",
       "271424  fraud_Denesik, Powlowski and Pouros            home    28.01      M   \n",
       "\n",
       "       state  \n",
       "1685      TX  \n",
       "1767      WI  \n",
       "1781      WI  \n",
       "1784      LA  \n",
       "1857      TX  \n",
       "...      ...  \n",
       "140798    MO  \n",
       "498544    MI  \n",
       "384685    OK  \n",
       "423739    WI  \n",
       "271424    MI  \n",
       "\n",
       "[4290 rows x 5 columns]"
      ]
     },
     "execution_count": 51,
     "metadata": {},
     "output_type": "execute_result"
    }
   ],
   "source": [
    "X"
   ]
  },
  {
   "cell_type": "code",
   "execution_count": 52,
   "id": "209a21be",
   "metadata": {},
   "outputs": [
    {
     "data": {
      "text/plain": [
       "1685      1\n",
       "1767      1\n",
       "1781      1\n",
       "1784      1\n",
       "1857      1\n",
       "         ..\n",
       "140798    0\n",
       "498544    0\n",
       "384685    0\n",
       "423739    0\n",
       "271424    0\n",
       "Name: is_fraud, Length: 4290, dtype: int64"
      ]
     },
     "execution_count": 52,
     "metadata": {},
     "output_type": "execute_result"
    }
   ],
   "source": [
    "y"
   ]
  },
  {
   "cell_type": "markdown",
   "id": "f3212778",
   "metadata": {},
   "source": [
    "# Transforming Categorical Features"
   ]
  },
  {
   "cell_type": "code",
   "execution_count": 53,
   "id": "84d22288",
   "metadata": {},
   "outputs": [
    {
     "data": {
      "text/plain": [
       "<4290x749 sparse matrix of type '<class 'numpy.float64'>'\n",
       "\twith 21450 stored elements in Compressed Sparse Row format>"
      ]
     },
     "execution_count": 53,
     "metadata": {},
     "output_type": "execute_result"
    }
   ],
   "source": [
    "categorical_features = ['merchant', 'category', 'gender', 'state']\n",
    "one_hot = OneHotEncoder(handle_unknown='ignore')\n",
    "transformer = ColumnTransformer([(\"one_hot\", one_hot, categorical_features)], remainder=\"passthrough\")\n",
    "transformed_X = transformer.fit_transform(X)\n",
    "transformed_X"
   ]
  },
  {
   "cell_type": "markdown",
   "id": "16149861",
   "metadata": {},
   "source": [
    "# Random Forest Implementation"
   ]
  },
  {
   "cell_type": "code",
   "execution_count": 54,
   "id": "de85a29c",
   "metadata": {},
   "outputs": [],
   "source": [
    "X_train, X_test, y_train, y_test = train_test_split(transformed_X, y, test_size=0.3, random_state=5)\n",
    "clf = RandomForestClassifier(random_state=5)\n",
    "clf.fit(X_train, y_train)\n",
    "y_pred = clf.predict(X_test)"
   ]
  },
  {
   "cell_type": "markdown",
   "id": "3c6fb246",
   "metadata": {},
   "source": [
    "# Metrics"
   ]
  },
  {
   "cell_type": "code",
   "execution_count": 55,
   "id": "7d44b8d3",
   "metadata": {},
   "outputs": [
    {
     "data": {
      "text/plain": [
       "array([[632,  22],\n",
       "       [ 47, 586]], dtype=int64)"
      ]
     },
     "execution_count": 55,
     "metadata": {},
     "output_type": "execute_result"
    }
   ],
   "source": [
    "metrics.confusion_matrix(y_test, y_pred)"
   ]
  },
  {
   "cell_type": "code",
   "execution_count": 56,
   "id": "e7ea6fab",
   "metadata": {},
   "outputs": [
    {
     "data": {
      "text/plain": [
       "0.9463869463869464"
      ]
     },
     "execution_count": 56,
     "metadata": {},
     "output_type": "execute_result"
    }
   ],
   "source": [
    "metrics.accuracy_score(y_test, y_pred)"
   ]
  },
  {
   "cell_type": "code",
   "execution_count": 57,
   "id": "7d2c3778",
   "metadata": {},
   "outputs": [
    {
     "data": {
      "text/plain": [
       "0.9463869463869464"
      ]
     },
     "execution_count": 57,
     "metadata": {},
     "output_type": "execute_result"
    }
   ],
   "source": [
    "clf.score(X_test, y_test)"
   ]
  },
  {
   "cell_type": "markdown",
   "id": "a9eec734",
   "metadata": {},
   "source": [
    "# Testing Prediction"
   ]
  },
  {
   "cell_type": "code",
   "execution_count": 58,
   "id": "c9cc297e",
   "metadata": {},
   "outputs": [
    {
     "data": {
      "text/html": [
       "<div>\n",
       "<style scoped>\n",
       "    .dataframe tbody tr th:only-of-type {\n",
       "        vertical-align: middle;\n",
       "    }\n",
       "\n",
       "    .dataframe tbody tr th {\n",
       "        vertical-align: top;\n",
       "    }\n",
       "\n",
       "    .dataframe thead th {\n",
       "        text-align: right;\n",
       "    }\n",
       "</style>\n",
       "<table border=\"1\" class=\"dataframe\">\n",
       "  <thead>\n",
       "    <tr style=\"text-align: right;\">\n",
       "      <th></th>\n",
       "      <th>merchant</th>\n",
       "      <th>category</th>\n",
       "      <th>amt</th>\n",
       "      <th>gender</th>\n",
       "      <th>state</th>\n",
       "    </tr>\n",
       "  </thead>\n",
       "  <tbody>\n",
       "    <tr>\n",
       "      <th>0</th>\n",
       "      <td>fraud_Nienow PLC</td>\n",
       "      <td>food_dining</td>\n",
       "      <td>5000</td>\n",
       "      <td>M</td>\n",
       "      <td>GA</td>\n",
       "    </tr>\n",
       "  </tbody>\n",
       "</table>\n",
       "</div>"
      ],
      "text/plain": [
       "           merchant     category   amt gender state\n",
       "0  fraud_Nienow PLC  food_dining  5000      M    GA"
      ]
     },
     "execution_count": 58,
     "metadata": {},
     "output_type": "execute_result"
    }
   ],
   "source": [
    "d = {'merchant': ['fraud_Nienow PLC'], 'category': ['food_dining'], 'amt': [5000], 'gender': ['M'], 'state': ['GA']}\n",
    "\n",
    "pred_df = pd.DataFrame(data=d)\n",
    "pred_df"
   ]
  },
  {
   "cell_type": "code",
   "execution_count": 59,
   "id": "ad1ac1fc",
   "metadata": {},
   "outputs": [
    {
     "data": {
      "text/plain": [
       "<1x749 sparse matrix of type '<class 'numpy.float64'>'\n",
       "\twith 5 stored elements in Compressed Sparse Row format>"
      ]
     },
     "execution_count": 59,
     "metadata": {},
     "output_type": "execute_result"
    }
   ],
   "source": [
    "loaded_encoder = load(filename=\"category_encoder.joblib\")\n",
    "test_pred = loaded_encoder.transform(pred_df)\n",
    "test_pred"
   ]
  },
  {
   "cell_type": "code",
   "execution_count": 60,
   "id": "066abac5",
   "metadata": {},
   "outputs": [
    {
     "data": {
      "text/plain": [
       "1"
      ]
     },
     "execution_count": 60,
     "metadata": {},
     "output_type": "execute_result"
    }
   ],
   "source": [
    "clf.predict(test_pred)[0]"
   ]
  },
  {
   "cell_type": "markdown",
   "id": "2edc0e3f",
   "metadata": {},
   "source": [
    "# Transaction Prediction Widget"
   ]
  },
  {
   "cell_type": "code",
   "execution_count": 61,
   "id": "3578b34f",
   "metadata": {
    "scrolled": true
   },
   "outputs": [
    {
     "data": {
      "application/vnd.jupyter.widget-view+json": {
       "model_id": "224f8633ff9a4e66b74c5f8a9162c3e1",
       "version_major": 2,
       "version_minor": 0
      },
      "text/plain": [
       "Dropdown(description='Merchant', options=('fraud_Abbott-Rogahn', 'fraud_Abbott-Steuber', 'fraud_Abernathy and …"
      ]
     },
     "metadata": {},
     "output_type": "display_data"
    },
    {
     "data": {
      "application/vnd.jupyter.widget-view+json": {
       "model_id": "06fc26d2447c4042bd88fe8d6d8d83df",
       "version_major": 2,
       "version_minor": 0
      },
      "text/plain": [
       "Dropdown(description='Category', options=('gas_transport', 'grocery_pos', 'home', 'shopping_pos', 'kids_pets',…"
      ]
     },
     "metadata": {},
     "output_type": "display_data"
    },
    {
     "data": {
      "application/vnd.jupyter.widget-view+json": {
       "model_id": "50562548e97f484b9d3cb08289576b38",
       "version_major": 2,
       "version_minor": 0
      },
      "text/plain": [
       "Text(value='', description='Amount', placeholder='Enter a number')"
      ]
     },
     "metadata": {},
     "output_type": "display_data"
    },
    {
     "data": {
      "application/vnd.jupyter.widget-view+json": {
       "model_id": "d1a0c3589cbc471bb7a61b59416e815f",
       "version_major": 2,
       "version_minor": 0
      },
      "text/plain": [
       "Dropdown(description='Gender', options=('F', 'M'), value=None)"
      ]
     },
     "metadata": {},
     "output_type": "display_data"
    },
    {
     "data": {
      "application/vnd.jupyter.widget-view+json": {
       "model_id": "d994014ec09c454ca3006e7dfefec55b",
       "version_major": 2,
       "version_minor": 0
      },
      "text/plain": [
       "Dropdown(description='State', options=('AK', 'AL', 'AR', 'AZ', 'CA', 'CO', 'CT', 'DC', 'FL', 'GA', 'HI', 'IA',…"
      ]
     },
     "metadata": {},
     "output_type": "display_data"
    },
    {
     "data": {
      "application/vnd.jupyter.widget-view+json": {
       "model_id": "ee671c063e634e32879ed0d31926103f",
       "version_major": 2,
       "version_minor": 0
      },
      "text/plain": [
       "Button(description='Predict Class', style=ButtonStyle(), tooltip='Predict Class')"
      ]
     },
     "metadata": {},
     "output_type": "display_data"
    },
    {
     "data": {
      "application/vnd.jupyter.widget-view+json": {
       "model_id": "dd793b136d7e4e4b9e37ee80d9f321c4",
       "version_major": 2,
       "version_minor": 0
      },
      "text/plain": [
       "Label(value='prediction')"
      ]
     },
     "metadata": {},
     "output_type": "display_data"
    }
   ],
   "source": [
    "# create widget selections\n",
    "merchants = sorted(transactions.value_counts('merchant').index.tolist())\n",
    "categories = transactions.value_counts('category').index.tolist()\n",
    "genders = transactions.value_counts('gender').index.tolist()\n",
    "states = sorted(transactions.value_counts('state').index.tolist())\n",
    "\n",
    "# create widgets\n",
    "merchant_dropdown = widgets.Dropdown(\n",
    "    options=merchants,\n",
    "    value=None,\n",
    "    description='Merchant',\n",
    "    disabled=False\n",
    ")\n",
    "\n",
    "category_dropdown = widgets.Dropdown(\n",
    "    options=categories,\n",
    "    value=None,\n",
    "    description='Category',\n",
    "    disabled=False    \n",
    ")\n",
    "\n",
    "amount_text_box = widgets.Text(\n",
    "    placeholder='Enter a number',\n",
    "    description='Amount',\n",
    "    disabled=False\n",
    ")\n",
    "\n",
    "gender_dropdown = widgets.Dropdown(\n",
    "    options=genders,\n",
    "    value=None,\n",
    "    description='Gender',\n",
    "    disabled=False\n",
    ")\n",
    "\n",
    "state_dropdown = widgets.Dropdown(\n",
    "    options=states,\n",
    "    value=None,\n",
    "    description='State',\n",
    "    disabled=False\n",
    ")\n",
    "\n",
    "predict_button = widgets.Button(\n",
    "    description='Predict Class',\n",
    "    disabled=False,\n",
    "    button_style='',\n",
    "    tooltip='Predict Class'\n",
    ")\n",
    "\n",
    "result_label = widgets.Label(\n",
    "    value='prediction'\n",
    ")\n",
    "\n",
    "\n",
    "# function to predict class based on transaction input when button is clicked\n",
    "def predict_class(x):\n",
    "    result_label_value = ''\n",
    "    merchant_value = merchant_dropdown.value\n",
    "    category_value = category_dropdown.value\n",
    "    try:\n",
    "        amount_value = float(amount_text_box.value)        \n",
    "    except ValueError:\n",
    "        result_label.value = 'Amount must be a number'\n",
    "        amount_value = ''\n",
    "\n",
    "    gender_value = gender_dropdown.value\n",
    "    state_value = state_dropdown.value\n",
    "    \n",
    "    if type(amount_value) == float:        \n",
    "    \n",
    "        input_data = {'merchant': [merchant_value], \n",
    "                      'category': [category_value], \n",
    "                      'amt': [amount_value], \n",
    "                      'gender': [gender_value], \n",
    "                      'state': [state_value]}\n",
    "        input_df = pd.DataFrame(data=input_data)\n",
    "\n",
    "        loaded_encoder = load(filename=\"category_encoder.joblib\")\n",
    "        transaction_classifier = load(filename=\"transaction_classifier.joblib\")\n",
    "\n",
    "        encoded_input = loaded_encoder.transform(input_df)\n",
    "        result = transaction_classifier.predict(encoded_input)\n",
    "\n",
    "        if result[0] == 0:\n",
    "            result_label.value = 'This transaction is nonfraudulent (0)'          \n",
    "\n",
    "        elif result[0] == 1:\n",
    "            result_label.value = 'This transaction is fraudulent (1)'\n",
    "#         print(merchant_value)\n",
    "#         print(category_value)\n",
    "#         print(amount_value)\n",
    "#         print(gender_value)\n",
    "#         print(state_value)\n",
    "        \n",
    "    elif type(amount_value) != float:\n",
    "        result_label.value = \"Amount must be a number\"\n",
    "\n",
    "# link function with button event        \n",
    "predict_button.on_click(predict_class)\n",
    "\n",
    "# display widgets\n",
    "display(merchant_dropdown)\n",
    "display(category_dropdown)\n",
    "display(amount_text_box)\n",
    "display(gender_dropdown)\n",
    "display(state_dropdown)\n",
    "display(predict_button)\n",
    "display(result_label)"
   ]
  },
  {
   "cell_type": "code",
   "execution_count": 62,
   "id": "5decb91f",
   "metadata": {},
   "outputs": [],
   "source": [
    "# %watermark --iversions\n",
    "\n"
   ]
  },
  {
   "cell_type": "code",
   "execution_count": null,
   "id": "cb0da0f6",
   "metadata": {},
   "outputs": [],
   "source": []
  }
 ],
 "metadata": {
  "kernelspec": {
   "display_name": "Python 3 (ipykernel)",
   "language": "python",
   "name": "python3"
  },
  "language_info": {
   "codemirror_mode": {
    "name": "ipython",
    "version": 3
   },
   "file_extension": ".py",
   "mimetype": "text/x-python",
   "name": "python",
   "nbconvert_exporter": "python",
   "pygments_lexer": "ipython3",
   "version": "3.9.7"
  }
 },
 "nbformat": 4,
 "nbformat_minor": 5
}
